{
 "cells": [
  {
   "cell_type": "markdown",
   "id": "9a5df037",
   "metadata": {},
   "source": [
    "<table style=\"width:100%;\">\n",
    "    <tr>\n",
    "        <td style=\"width:80%; text-align:left; vertical-align: center;\">\n",
    "            <img src=\"./ETH_Logo.svg\" alt=\"ETH logo\" align=\"left\" vspace=\"4\">\n",
    "        </td>\n",
    "        <td style=\"width:20%; text-align:left; vertical-align: top;\">\n",
    "            Biochemical Engineering Lab<br/>\n",
    "            Prof. Dr. P. Arosio<br/>\n",
    "            <img src=\"./DCHAB_Logo.png\" alt=\"DCHAB logo\" align=\"left\" vspace=\"-50\"\n",
    "             style=\"width:150px; margin: -12px 0px 0px -20px;\">\n",
    "        </td>\n",
    "    </tr>\n",
    "</table>\n",
    "\n",
    "<center> \n",
    "    <h1>Biochemical and Polymer Reaction Engineering: Exercise 5</h1>\n",
    "    <h3>by Eduard Meier</h3>\n",
    "</center>"
   ]
  },
  {
   "cell_type": "markdown",
   "id": "a0c5ecfd",
   "metadata": {},
   "source": [
    "<center> \n",
    "<img src=\"./Header.jpg\" alt=\"Polymers\" style=\"width: 800px;\"/>\n",
    "</center>"
   ]
  },
  {
   "cell_type": "markdown",
   "id": "eb08b350",
   "metadata": {},
   "source": [
    "This Jupyter Notebooks contains a presentation of the applied equations, all code (main script and various functions) used to solve the exercise as well as the resulting plots. It belongs to the course \"Biochemical and Polymer Reaction Engineering\", held by Prof. Arosio in the autumn semester 2022. References to equations inside the lecture script are indicated on the left side of the corresponding equations and refer to the equation number in the lecture script."
   ]
  },
  {
   "cell_type": "markdown",
   "id": "773e64d9",
   "metadata": {},
   "source": [
    "# 1 Equations and Derivations"
   ]
  },
  {
   "cell_type": "markdown",
   "id": "3456a20a",
   "metadata": {},
   "source": [
    "## 1.1 Part a)"
   ]
  },
  {
   "cell_type": "markdown",
   "id": "bb447df3",
   "metadata": {},
   "source": [
    "The formation of amyloid fibrils from a pool of monomeric proteins under conditions in which fragmentation is the main secondary nucleation process and assuming breakage with equal probability in each fibril bond, the corresponding PBE and the respective moments read:"
   ]
  },
  {
   "cell_type": "markdown",
   "id": "d8d368be",
   "metadata": {},
   "source": [
    "\\begin{align}\n",
    "    (\\mathrm{Ex}) \\;\\;\\;\\;\\;\\;  \\frac{\\mathrm{d}f_j}{\\mathrm{d}t} &= 2 k_+ f_{j-1}m-2k_+ f_j m - k_- (j-1) f_j + 2 k_- \\sum_{i=j+1}^\\infty f_i + \\delta_{j,n_C} k_n m^{n_C} \\\\\n",
    "    (\\mathrm{Ex}) \\;\\;\\;\\;\\;\\;  \\mu_0 &= \\sum_{j=n_C}^\\infty f_j = P \\\\\n",
    "    (\\mathrm{Ex}) \\;\\;\\;\\;\\;\\; \\mu_1 &= \\sum_{j=n_C}^{\\infty} j f_j = M \\\\\n",
    "    (\\mathrm{Ex}) \\;\\;\\;\\;\\;\\; \\mu_2 &= \\sum_{j=n_C}^{\\infty} j^2 f_j\n",
    "\\end{align}"
   ]
  },
  {
   "cell_type": "markdown",
   "id": "40611473",
   "metadata": {},
   "source": [
    "To arrive at ODEs for the moments, which can be numerically integrated, respective time derivatives of the average quantities (moments) listed above are computed:"
   ]
  },
  {
   "cell_type": "markdown",
   "id": "83e17fdb",
   "metadata": {},
   "source": [
    "\\begin{align}\n",
    "    \\frac{\\mathrm{d}\\mu_0}{\\mathrm{d}t} &= \\sum_{j=n_C}^\\infty \\frac{\\mathrm{d}f_j}{\\mathrm{d}t} \\\\\n",
    "    \\frac{\\mathrm{d}\\mu_1}{\\mathrm{d}t} &= \\sum_{j=n_C}^\\infty \\left( \\frac{\\mathrm{d}j}{\\mathrm{d}t}f_j + j \\frac{\\mathrm{d}f_j}{\\mathrm{d}t} \\right) = \\sum_{j=n_C}^\\infty j \\frac{\\mathrm{d}f_j}{\\mathrm{d}t} \\\\\n",
    "    \\frac{\\mathrm{d}\\mu_2}{\\mathrm{d}t} &= \\sum_{j=n_C}^\\infty \\left( \\frac{\\mathrm{d}j^2}{\\mathrm{d}t}f_j + j^2 \\frac{\\mathrm{d}f_j}{\\mathrm{d}t} \\right) = \\sum_{j=n_C}^\\infty j^2 \\frac{\\mathrm{d}f_j}{\\mathrm{d}t}\n",
    "\\end{align}"
   ]
  },
  {
   "cell_type": "markdown",
   "id": "2fc8fc50",
   "metadata": {},
   "source": [
    "In a subsequent step, the PBE above is inserted into the ODEs for the moments, which yields:"
   ]
  },
  {
   "cell_type": "markdown",
   "id": "951d7c9f",
   "metadata": {},
   "source": [
    "\\begin{align}\n",
    "    \\frac{\\mathrm{d}\\mu_0}{\\mathrm{d}t} &= \\sum_{j=n_C}^\\infty  \\left(  2 k_+ f_{j-1}m-2k_+ f_j m - k_- (j-1) f_j + 2 k_- \\sum_{i=j+1}^\\infty f_i + \\delta_{j,n_C} k_n m^{n_C} \\right) \\\\\n",
    "    &= 2 k_+ m \\sum_{j=n_C}^\\infty (f_{j-1}-f_j) - k_- \\sum_{j=n_C}^\\infty (j-1) f_j + 2k_- \\sum_{j=n_C}^\\infty \\sum_{i=j+1}^\\infty f_i + \\sum_{j=n_C}^\\infty \\delta_{j,n_C} k_n m^{n_C} \\\\\n",
    "    \\frac{\\mathrm{d}\\mu_1}{\\mathrm{d}t} &= \\sum_{j=n_C}^\\infty j \\left(  2 k_+ f_{j-1}m-2k_+ f_j m - k_- (j-1) f_j + 2 k_- \\sum_{i=j+1}^\\infty f_i + \\delta_{j,n_C} k_n m^{n_C} \\right) \\\\\n",
    "     &= 2 k_+ m  \\sum_{j=n_C}^\\infty j f_{j-1} - 2 k_+ m  \\sum_{j=n_C}^\\infty j f_j - k_-  \\sum_{j=n_C}^\\infty j(j-1)f_j + k_-  \\sum_{j=n_C}^\\infty j  \\sum_{i=j+1}^\\infty f_i +  \\sum_{j=n_C}^\\infty j \\delta_{j,n_C} k_n m^{n_C} \\\\\n",
    "    \\frac{\\mathrm{d}\\mu_2}{\\mathrm{d}t} &= \\sum_{j=n_C}^\\infty j^2 \\left(  2 k_+ f_{j-1}m-2k_+ f_j m - k_- (j-1) f_j + 2 k_- \\sum_{i=j+1}^\\infty f_i + \\delta_{j,n_C} k_n m^{n_C} \\right) \\\\\n",
    "    &= 2 k_+ m  \\sum_{j=n_C}^\\infty j^2 f_{j-1} - 2 k_+ m  \\sum_{j=n_C}^\\infty j^2 f_j - k_-  \\sum_{j=n_C}^\\infty j^2 (j-1) f_j + 2 k_-  \\sum_{j=n_C}^\\infty j^2  \\sum_{i=j+1}^\\infty f_i +  \\sum_{j=n_C}^\\infty j^2 \\delta_{j,n_C} k_n m^{n_C}\n",
    "\\end{align}"
   ]
  },
  {
   "cell_type": "markdown",
   "id": "b8d6b23c",
   "metadata": {},
   "source": [
    "Rewriting the equations making use of the hints given in the exercise sheet yields the following set of equations, which are now independent of the fibril concentrations:"
   ]
  },
  {
   "cell_type": "markdown",
   "id": "25ed0cda",
   "metadata": {},
   "source": [
    "\\begin{align}\n",
    "    \\frac{\\mathrm{d}\\mu_0}{\\mathrm{d}t} &= - k_- (\\mu_1 - \\mu_0) + 2 k_- (\\mu_1 - n_C \\mu_0) + k_n m^{n_C} \\\\\n",
    "    \\frac{\\mathrm{d}\\mu_1}{\\mathrm{d}t} &= 2 k_+ m \\mu_0 - k_- (\\mu_2 - \\mu_1) + 2 k_- \\left( \\frac{1}{2} \\mu_2 - \\frac{1}{2} \\mu_1 - \\frac{1}{2} \\mu_0 (n_C + n_C^2) \\right) + n_C k_n m^{n_C} \\\\\n",
    "    \\frac{\\mathrm{d}\\mu_2}{\\mathrm{d}t} &= 2 k_+ m (2\\mu_1 + \\mu_0) - k_- (\\mu_3 - \\mu_2) + 2 k_- \\left( \\frac{1}{3} \\mu_3 - \\frac{1}{2} \\mu_2 + \\frac{1}{6} \\mu_1 - \\mu_0 \\left( \\frac{1}{3} n_C^3 + \\frac{1}{2} n_C^2 + \\frac{1}{6} n_C \\right) \\right) + n_C^2 k_n m^{n_C}\n",
    "\\end{align}"
   ]
  },
  {
   "cell_type": "markdown",
   "id": "ab2345ec",
   "metadata": {},
   "source": [
    "And the third moment can be calculated from the other moments according to:\n",
    "\n",
    "\\begin{equation}\n",
    "    \\mu_3 = \\frac{\\mu_2(2\\mu_2\\mu_0-\\mu_1^2)}{\\mu_1 \\mu_0}\n",
    "\\end{equation}"
   ]
  },
  {
   "cell_type": "markdown",
   "id": "20678fee",
   "metadata": {},
   "source": [
    "Finally, to describe the evolution of the monomer concentration, we can make use of the following conservation equation:\n",
    "\n",
    "\\begin{align}\n",
    "    m(t) &= m_0 - \\sum_{j=n_C}^\\infty j f_j \\\\\n",
    "         &= m_0 - \\mu_1 \\\\\n",
    "\\end{align}\n",
    "\n",
    "\\begin{equation}\n",
    "       \\implies \\frac{\\mathrm{d}m}{\\mathrm{d}t} = - \\frac{\\mathrm{d}\\mu_1}{\\mathrm{d}t}\n",
    "\\end{equation}"
   ]
  },
  {
   "cell_type": "markdown",
   "id": "ff68e530",
   "metadata": {},
   "source": [
    "By numerically integrating the derived system of 4 coupled ODEs, namely for the monomer concentration and the three moments, the time evolution can be simulated."
   ]
  },
  {
   "cell_type": "markdown",
   "id": "a0b2810e",
   "metadata": {},
   "source": [
    "## 1.2 Part b)"
   ]
  },
  {
   "cell_type": "markdown",
   "id": "b16bcf80",
   "metadata": {},
   "source": [
    "The fibril length distribution can be calculated according to the following set of equations, assuming that it follows a gamma distribution:"
   ]
  },
  {
   "cell_type": "markdown",
   "id": "a18306aa",
   "metadata": {},
   "source": [
    "\\begin{align}\n",
    "    (\\mathrm{Ex}) \\;\\;\\;\\;\\;\\; g(\\chi) &= \\alpha (\\alpha \\chi)^{\\beta-1} \\frac{\\mathrm{exp}(-\\alpha \\chi)}{\\Gamma(\\beta)} \\\\\n",
    "    (\\mathrm{Ex}) \\;\\;\\;\\;\\;\\; \\alpha &= \\frac{\\mu_0 \\mu_1}{\\mu_2 \\mu_0 - \\mu_1^2} \\\\\n",
    "    (\\mathrm{Ex}) \\;\\;\\;\\;\\;\\; \\beta &= \\frac{\\mu_1^2}{\\mu_2\\mu_0 - \\mu_1^2}\n",
    "\\end{align}"
   ]
  },
  {
   "cell_type": "markdown",
   "id": "7a67489f",
   "metadata": {},
   "source": [
    "## 1.3 Part c)"
   ]
  },
  {
   "cell_type": "markdown",
   "id": "43ac01e5",
   "metadata": {},
   "source": [
    "The average fibril length is calculated via\n",
    "\n",
    "\\begin{equation}\n",
    "    \\bar{j} = \\frac{\\mu_1}{\\mu_0} \\; .\n",
    "\\end{equation}"
   ]
  },
  {
   "cell_type": "markdown",
   "id": "665592d5",
   "metadata": {},
   "source": [
    "# 2. Plots and Discussion"
   ]
  },
  {
   "cell_type": "markdown",
   "id": "304c4ea9",
   "metadata": {},
   "source": [
    "## 2.1 Part a)"
   ]
  },
  {
   "cell_type": "markdown",
   "id": "3d8df6a4",
   "metadata": {},
   "source": [
    "The results displayed in Fig. 1 are found when numerically solving the previously defined set of four ODEs assuming an initial fibril mass and number concentration of zero and an initial monomer concentration of 250 $\\mu$M.\n",
    "Thus, when starting without any fibrils, an initial lag phase of approximately 20 minutes is observed, where the total fibril mass does not change. This lag phase is followed by a rapid growth phase (of the fibrils) until most of the monomers have been incorporated. Full conversion of the monomers is achieved after approximately 1.3 hours."
   ]
  },
  {
   "cell_type": "markdown",
   "id": "6fed397a",
   "metadata": {},
   "source": [
    "<figure> \n",
    "    <center>\n",
    "    <img src=\"./Plot_BPRE_Ex5_1.pdf\" alt=\"Fibrils\"  style=\"width: 450px;\"/>\n",
    "    <figcaption> Figure 1: Evolution of the total fibril mass concentration (M) over time, starting from an initial fibril mass concentration of zero. </figcaption>\n",
    "    </center>\n",
    "</figure>\n",
    "<br>\n",
    "</br>"
   ]
  },
  {
   "cell_type": "markdown",
   "id": "129fbf0f",
   "metadata": {},
   "source": [
    "## 2.2 Part b)"
   ]
  },
  {
   "cell_type": "markdown",
   "id": "28d32c25",
   "metadata": {},
   "source": [
    "Both reduction of the elongation rate constant ($k_+$) as well as the fragmentation rate constant ($k_-$) result in increased lag times, slower growth and increased times to reach full monomer conversion, as shown in Fig. 2. On one side, the reduction of the fragmentation rate constant implies fewer fragmentation events, which means fewer reactive fibril ends which favor growth, thus the growth rate is reduced. On the other side, a decrease in the elongation rate constant leads to an even lower growth rate and higher lag times, since fewer aggregation events happen, which are a prerequisite for fibril growth. Thus, the time required to reach full monomer conversion is increased by both reduction of the elongation and of the fragmentation rate constants, while the effect of reducing the elongation rate constant is even higher, since it directly influences growth (and not indirectly as in the case of reducing the fragmentation rate constant)."
   ]
  },
  {
   "cell_type": "markdown",
   "id": "8234b765",
   "metadata": {},
   "source": [
    "<figure> \n",
    "    <center>\n",
    "    <img src=\"./Plot_BPRE_Ex5_2.pdf\" alt=\"Fibrils2\"  style=\"width: 450px;\"/>\n",
    "    <figcaption> Figure 2: Evolution of the total fibril mass concentration (M) over time, starting from an initial fibril mass concentration of zero, setting different values for the elongation and fragmentation rate constants.  </figcaption>\n",
    "    </center>\n",
    "</figure>\n",
    "<br>\n",
    "</br>"
   ]
  },
  {
   "cell_type": "markdown",
   "id": "1fb8f778",
   "metadata": {},
   "source": [
    "The distributions of fibril lengths considering 90 % monomer conversion, varying the elongation and fragmentation rate constant, are shown in Fig. 3. Based on the results displayed in Fig. 3 combined with the experience that short fibrils are potentially more dangerous in neurodegenerative disorders, we can conclude that a decrease in the elongation rate constant, shifting the mean of the distribution to lower fibril lengths compared to the base case simulation, is especially dangerous, while a reduction of the fragmentation rate constant shifts the mean to higher fibril lengths. Therefore, as a strategy to inhibit aggregation, a reduction of the fragmentation rate constant is  a proising target, as both the mean fibril length is shifted to higher values and the aggregation rate is reduced, leading to a fewer amount of fibrils present at any point in time (relative to the base case)."
   ]
  },
  {
   "cell_type": "markdown",
   "id": "90f29748",
   "metadata": {},
   "source": [
    "<figure> \n",
    "    <center>\n",
    "    <img src=\"./Plot_BPRE_Ex5_3.pdf\" alt=\"Fibrils3\"  style=\"width: 450px;\"/>\n",
    "    <figcaption> Figure 3: Fibril length distribution, setting different values for the elongation and fragmentation rate constants.  </figcaption>\n",
    "    </center>\n",
    "</figure>\n",
    "<br>\n",
    "</br>"
   ]
  },
  {
   "cell_type": "markdown",
   "id": "7b8d2dff",
   "metadata": {},
   "source": [
    "## 2.3 Part c)"
   ]
  },
  {
   "cell_type": "markdown",
   "id": "e58a8b7c",
   "metadata": {},
   "source": [
    "In this task, the effect of the presence of preformed fibrils (so-called \"seeds\") on the fibril growth dynamics was considered by varying the initial fibril mass concentration ($M_0$) between 2.5e-7 $\\mu$M and 25 $\\mu$M. In addition, the initial fibril length of the seeds was assumed to be 1000 (i.e. 1000 monomers are incorporated), and thus $P_0 = M_0/1000$. \n",
    "\n",
    "The time evolution of the total fibril mass concentration for the considered initial values is displayed in Fig. 4. As can be seen, fibril growth (and thus monomer depletion) starts earlier for higher initial fibril mass concentrations, which seems reasonable since with present seeds, more monomers can directly be incorporated and the lag phase is reduced and growth is favored. In addition, the asymptote reached after full monomer conversion also increases with increasing initial fibril mass concentrations, since more fibrils are present in the system."
   ]
  },
  {
   "cell_type": "markdown",
   "id": "03bda514",
   "metadata": {},
   "source": [
    "<figure> \n",
    "    <center>\n",
    "    <img src=\"./Plot_BPRE_Ex5_4.pdf\" alt=\"Fibrils4\"  style=\"width: 450px;\"/>\n",
    "    <figcaption> Figure 4: Time evolution of the total fibril mass concentration for different initial fibril mass concentrations. </figcaption>\n",
    "    </center>\n",
    "</figure>\n",
    "<br>\n",
    "</br>"
   ]
  },
  {
   "cell_type": "markdown",
   "id": "b01efab3",
   "metadata": {},
   "source": [
    "The time necessary to incorporate 50 % of the initially present monomer (i.e. the half time) into fibrils decreases with increasing amount of initial fibril mass concentration is displayed in Fig. 5. These results agree with the findings from Fig. 4 that at each point in time, monomer conversion is increased for increasing initial fibril mass concentration and thus the half time is reduced. However, no effect is observed for very low initial fibril mass concentrations, where the half time is approximately constant. Therefore, it can be assumed that at very low initial fibril mass concentrations, the rate of monomer consumption is dominated by primary nucleation, which does not depend on the fibril concentration."
   ]
  },
  {
   "cell_type": "markdown",
   "id": "6fe6bcf6",
   "metadata": {},
   "source": [
    "<figure> \n",
    "    <center>\n",
    "    <img src=\"./Plot_BPRE_Ex5_5.pdf\" alt=\"Fibrils5\"  style=\"width: 450px;\"/>\n",
    "    <figcaption> Figure 5: Half time of the monomer concentration for the considered initial fibril mass concentrations.  </figcaption>\n",
    "    </center>\n",
    "</figure>\n",
    "<br>\n",
    "</br>"
   ]
  },
  {
   "cell_type": "markdown",
   "id": "9d44428d",
   "metadata": {},
   "source": [
    "As displayed in Fig. 6, at a monomer conversion of 90 % the average fibril length remains roughly constant for low initial fibril mass concentrations ($M_0$), while it sharply rises above a value 1 $\\mu$M. The stagnation of the average fibril length at low $M_0$ means that either the present fibril seeds don't affect the growth process significantly or that the increase in growth is compensated by a simultaneous increase in fragmentation. Above a critical initial seed concentration, the fibril growth is significant and the relative share of primary nucleation events (leading to lower average fibril lengths) decreases."
   ]
  },
  {
   "cell_type": "markdown",
   "id": "b0046768",
   "metadata": {},
   "source": [
    "<figure> \n",
    "    <center>\n",
    "    <img src=\"./Plot_BPRE_Ex5_6.pdf\" alt=\"Fibrils6\"  style=\"width: 450px;\"/>\n",
    "    <figcaption> Figure 6: Average fibril length at 90 % monomer conversion for the considered initial fibril mass concentrations. </figcaption>\n",
    "    </center>\n",
    "</figure>\n",
    "<br>\n",
    "</br>"
   ]
  },
  {
   "cell_type": "markdown",
   "id": "47ff63ef",
   "metadata": {},
   "source": [
    "The temporal evolution of the average fibril length is shown in Fig. 7 for different initial fibril mass concentrations. While the shape of the observed curves is similar on a qualitative level, higher initial fibril mass concentrations lead to faster dynamics and thus faster monomer uptake. In general, in a first stage, growth dominates, leading to a strong increase in the average fibril length, and eventually fragmentation takes over, thus a maximum length is passed and eventually the average length reaches a horizontal asymptote."
   ]
  },
  {
   "cell_type": "markdown",
   "id": "f86a6b5c",
   "metadata": {},
   "source": [
    "<figure> \n",
    "    <center>\n",
    "    <img src=\"./Plot_BPRE_Ex5_7.pdf\" alt=\"Fibrils7\"  style=\"width: 450px;\"/>\n",
    "    <figcaption> Figure 7: Temporal evolution of the average fibril length for the considered initial fibril mass concentrations. </figcaption>\n",
    "    </center>\n",
    "</figure>\n",
    "\n",
    "<br>\n",
    "</br>"
   ]
  },
  {
   "cell_type": "markdown",
   "id": "d51507b1",
   "metadata": {},
   "source": [
    "The fibril length distribution at 90 % conversion is displayed in Fig. 8 for different initial fibril mass concentrations. As can easily be seen, the distribution is largely unaffected by the seeding, as the curves mostly coincide and can hardly be distinguished."
   ]
  },
  {
   "cell_type": "markdown",
   "id": "2840ffd6",
   "metadata": {},
   "source": [
    "<figure> \n",
    "    <center>\n",
    "    <img src=\"./Plot_BPRE_Ex5_8.pdf\" alt=\"Fibrils8\"  style=\"width: 450px;\"/>\n",
    "    <figcaption> Figure 8: Fibril length distribution at 90 % monomer conversion. </figcaption>\n",
    "    </center>\n",
    "</figure>\n",
    "\n",
    "<br>\n",
    "</br>"
   ]
  },
  {
   "cell_type": "markdown",
   "id": "b29072b0",
   "metadata": {},
   "source": [
    "# Python Code"
   ]
  },
  {
   "cell_type": "markdown",
   "id": "3aef39a2",
   "metadata": {},
   "source": [
    "Import of the relevant libraries."
   ]
  },
  {
   "cell_type": "code",
   "execution_count": 1,
   "id": "fee284de",
   "metadata": {},
   "outputs": [],
   "source": [
    "# Import libraries and other preliminaries\n",
    "\n",
    "import numpy as np                    # Import numerical python library\n",
    "import matplotlib as mpl              # Import python mathematical plotting library\n",
    "import matplotlib.pyplot as plt       # Import python mathematical plotting library\n",
    "from scipy.integrate import solve_ivp # Import solver for (system of coupled) ODEs\n",
    "from scipy.special import gamma, factorial # Import gamma function\n",
    "import math\n",
    "\n",
    "# Use LaTeX font in plots:\n",
    "plt.rcParams.update({\n",
    "    'text.usetex': True,\n",
    "    'font.family': 'serif',\n",
    "    'font.serif': ['Computern Modern Roman'],\n",
    "})"
   ]
  },
  {
   "cell_type": "markdown",
   "id": "365b2694",
   "metadata": {},
   "source": [
    "## Part a)"
   ]
  },
  {
   "cell_type": "code",
   "execution_count": 2,
   "id": "5b8a7381",
   "metadata": {},
   "outputs": [],
   "source": [
    "def mu3(mu_0, mu_1, mu_2):\n",
    "    \"\"\"\n",
    "    Calculate third-order moment based on the above equation.\n",
    "    \"\"\" \n",
    "    return mu_2*(2*mu_2*mu_0-mu_1**2)/(mu_1*mu_0)"
   ]
  },
  {
   "cell_type": "code",
   "execution_count": 3,
   "id": "1f5f2447",
   "metadata": {},
   "outputs": [],
   "source": [
    "def ode_system(t, y, k_min, k_plus, k_n, n_C):\n",
    "    \"\"\"\n",
    "    Define the system of ODEs for the time evolution of the fibrils\n",
    "    \"\"\"\n",
    "    mu_0, mu_1, mu_2, m = y\n",
    "    \n",
    "    # Calculate 3rd-order moment\n",
    "    mu_3 = mu3(mu_0, mu_1, mu_2)\n",
    "    \n",
    "    \n",
    "    dmu0_dt = - k_min*(mu_1-mu_0) + 2*k_min*(mu_1-n_C*mu_0) + k_n*m**n_C\n",
    "    dmu1_dt = 2*k_plus*m*mu_0 - k_min*(mu_2-mu_1) + 2*k_min*(0.5*mu_2-0.5*mu_1-0.5*mu_0*(n_C+n_C**2)) + n_C*k_n*m**n_C\n",
    "    dmu2_dt = 2*k_plus*m*(2*mu_1+mu_0) - k_min*(mu_3-mu_2) + 2*k_min*(1/3*mu_3-0.5*mu_2+1/6*mu_1-mu_0*(1/3*n_C**3+0.5*n_C**2+1/6*n_C)) + n_C**2*k_n*m**n_C\n",
    "    dm_dt = - dmu1_dt\n",
    "    \n",
    "    odesys = [dmu0_dt, dmu1_dt, dmu2_dt, dm_dt]\n",
    "    \n",
    "    return odesys"
   ]
  },
  {
   "cell_type": "code",
   "execution_count": 4,
   "id": "176b268f",
   "metadata": {},
   "outputs": [],
   "source": [
    "def solve_ode_system(Param):\n",
    "    \"\"\"\n",
    "    Solve the system of ODEs\n",
    "    \"\"\"\n",
    "    # Read-out parameters and initial conditions\n",
    "    tMin = Param[0]\n",
    "    tMax = Param[1]\n",
    "    tStep = Param[2]\n",
    "    k_min = Param[3]\n",
    "    k_plus = Param[4]\n",
    "    k_n = Param[5]\n",
    "    n_C = Param[6]\n",
    "    mu_00 = Param[7]\n",
    "    mu_10 = Param[8]\n",
    "    mu_20 = Param[9]\n",
    "    m0 = Param[10]\n",
    "\n",
    "    # Define initial condition vector\n",
    "    y0 = [mu_00, mu_10, mu_20, m0]\n",
    "\n",
    "    # Define time limits\n",
    "    tlimits = [tMin, tMax]\n",
    "    trange = np.arange(tMin, tMax+tStep, tStep)\n",
    "\n",
    "    # Define additional ODE parameters\n",
    "    Param_ODE = [k_min, k_plus, k_n, n_C]\n",
    "\n",
    "    # Solve system of ODEs (use Runge-Kutta 4-5th order for numerical integration)\n",
    "    Sol= solve_ivp(ode_system, tlimits, y0, args=Param_ODE, method='RK45', t_eval=trange)\n",
    "    mu_0 = Sol.y[0]\n",
    "    mu_1 = Sol.y[1]\n",
    "    mu_2 = Sol.y[2]\n",
    "    m = Sol.y[3]\n",
    "    t = Sol.t\n",
    "\n",
    "    return mu_0, mu_1, mu_2, m, t    "
   ]
  },
  {
   "cell_type": "code",
   "execution_count": 5,
   "id": "02b9b910",
   "metadata": {},
   "outputs": [],
   "source": [
    "def TaskA():\n",
    "    \"\"\"\n",
    "    Solve and plot the system of ODEs\n",
    "    \"\"\"\n",
    "    # Define parameters\n",
    "    k_min = 1e-6       # Rate constant for fragmentation (minus) [1/s]\n",
    "    k_plus = 1e4       # Rate constant for elongation (plus) [1/M/s]\n",
    "    k_n = 1e-6         # Rate constant (n) [1/M/s]\n",
    "    n_C = 2            # Additional parameter (n_C) [-]\n",
    "    \n",
    "    # Define time steps and limits for ODE integration\n",
    "    tMin = 0           # Start time [s]\n",
    "    tMax = 2*3600      # Maximal time [s]\n",
    "    tStep = 1          # Time step size [s]\n",
    "    \n",
    "    # Define initial condition\n",
    "    m0 = 250e-6           # Initial monomer concentration [M]\n",
    "    mu_00 = 1e-12          # Initial 0th-order moment [M]\n",
    "    mu_10 = 1e-12          # Initial 1th-order moment [M]\n",
    "    mu_20 = 1e-12          # Initial 2th-order moment [M]\n",
    "\n",
    "    # Parameter array\n",
    "    Param = [tMin, tMax, tStep, k_min, k_plus, k_n, n_C, mu_00, mu_10, mu_20, m0]\n",
    "    \n",
    "    # Create and solve system of ODEs\n",
    "    mu_0, mu_1, mu_2, m, t  = solve_ode_system(Param)\n",
    "     \n",
    "    # Plot figure\n",
    "    fig, axs = plt.subplots(nrows=1, ncols=1, figsize = (6,5)) # Create figure with one plot\n",
    "    \n",
    "    plot1 = axs.plot(t/3600, mu_1*1e6, color='black')      # Create plot of mu_1 [mumol/L] vs. t [h]\n",
    "    axs.set_xlabel('Time, $t$ [h]')   # Add x-axis label to plot\n",
    "    axs.set_ylabel(r'Total Fibril Mass, $M$ [$\\mu$M]')  # Add y-axis label to plot\n",
    "\n",
    "    # Title\n",
    "    fig.suptitle('Time Evolution of the Total Fibril Mass', fontsize=16, y=0.98)   # Set overall title\n",
    "        \n",
    "    # Save plot\n",
    "    filename = 'Plot_BPRE_Ex5_1'\n",
    "    plt.savefig(filename+'.pdf', bbox_inches='tight')      "
   ]
  },
  {
   "cell_type": "code",
   "execution_count": 6,
   "id": "47a7e0cd",
   "metadata": {},
   "outputs": [
    {
     "data": {
      "image/png": "[encoded data removed]",
      "text/plain": [
       "<Figure size 432x360 with 1 Axes>"
      ]
     },
     "metadata": {
      "needs_background": "light"
     },
     "output_type": "display_data"
    }
   ],
   "source": [
    "# Execute function for task a)\n",
    "TaskA()"
   ]
  },
  {
   "cell_type": "markdown",
   "id": "6e0c6d96",
   "metadata": {},
   "source": [
    "## Part b)"
   ]
  },
  {
   "cell_type": "code",
   "execution_count": 7,
   "id": "9c73bdf6",
   "metadata": {},
   "outputs": [],
   "source": [
    "def find_nearest(array, value):\n",
    "    array = np.asarray(array)\n",
    "    idx = (np.abs(array - value)).argmin()\n",
    "    return idx, array[idx]"
   ]
  },
  {
   "cell_type": "code",
   "execution_count": 8,
   "id": "2cb60a43",
   "metadata": {},
   "outputs": [],
   "source": [
    "def gamma_dist(chi, alpha, beta):\n",
    "    return alpha*(alpha*chi)**(beta-1)*np.exp(-alpha*chi)/gamma(beta)"
   ]
  },
  {
   "cell_type": "code",
   "execution_count": 9,
   "id": "15c44a56",
   "metadata": {},
   "outputs": [],
   "source": [
    "def alpha_dist(mu_0, mu_1, mu_2):\n",
    "    return mu_0*mu_1/(mu_2*mu_0-mu_1**2)"
   ]
  },
  {
   "cell_type": "code",
   "execution_count": 10,
   "id": "6918df00",
   "metadata": {},
   "outputs": [],
   "source": [
    "def beta_dist(mu_0, mu_1, mu_2):\n",
    "    return mu_1**2/(mu_2*mu_0-mu_1**2)"
   ]
  },
  {
   "cell_type": "code",
   "execution_count": 11,
   "id": "02b56675",
   "metadata": {},
   "outputs": [],
   "source": [
    "def TaskB():\n",
    "    \"\"\"\n",
    "    Solve and plot the system of ODEs, Task b)\n",
    "    \"\"\"\n",
    "    # Define parameters\n",
    "    k_min = 1e-6        # Rate constant for fragmentation (minus) [1/s]\n",
    "    k_plus = 1e4        # Rate constant for elongation (plus) [1/M/s]\n",
    "    k_min1 = 1e-6       # Rate constant (minus) [1/s]\n",
    "    k_plus1 = 1e4/10    # Rate constant (plus) [1/M/s]\n",
    "    k_min2 = 1e-6/10    # Rate constant (minus) [1/s]\n",
    "    k_plus2 = 1e4       # Rate constant (plus) [1/M/s]\n",
    "    k_n = 1e-6          # Rate constant (n) [1/M/s]\n",
    "    n_C = 2             # Additional parameter (n_C) [-]\n",
    "    \n",
    "    # Define time steps and limits for ODE integration\n",
    "    tMin = 0           # Start time [s]\n",
    "    tMax = 6*3600      # Maximal time [s]\n",
    "    tStep = 1          # Time step size [s]\n",
    "    \n",
    "    # Define initial condition\n",
    "    m0 = 250e-6           # Initial monomer concentration [M]\n",
    "    mu_00 = 1e-12          # Initial 0th-order moment [M]\n",
    "    mu_10 = 1e-12          # Initial 1th-order moment [M]\n",
    "    mu_20 = 1e-12          # Initial 2th-order moment [M]\n",
    "\n",
    "    # Parameter array\n",
    "    Param  = [tMin, tMax, tStep, k_min,  k_plus,  k_n, n_C, mu_00, mu_10, mu_20, m0]\n",
    "    Param1 = [tMin, tMax, tStep, k_min1, k_plus1, k_n, n_C, mu_00, mu_10, mu_20, m0]\n",
    "    Param2 = [tMin, tMax, tStep, k_min2, k_plus2, k_n, n_C, mu_00, mu_10, mu_20, m0]\n",
    "\n",
    "    # Create and solve system of ODEs\n",
    "    mu_0, mu_1, mu_2, m, t  = solve_ode_system(Param)\n",
    "    mu_01, mu_11, mu_21, m1, t1  = solve_ode_system(Param1)\n",
    "    mu_02, mu_12, mu_22, m2, t2  = solve_ode_system(Param2)\n",
    "    \n",
    "    # Define conversion to consider in the following\n",
    "    X_ideal = 0.9\n",
    "    \n",
    "    # Calculate conversion\n",
    "    X_m = (m[0]-m)/m[0]\n",
    "    X_m1 = (m1[0]-m1)/m1[0]\n",
    "    X_m2 = (m2[0]-m2)/m2[0]\n",
    "    \n",
    "    # Define array of fibril lengths\n",
    "    chi = np.arange(1, 8e3, 1)    \n",
    "    \n",
    "    # Find index of solution arrays, where conversion is closest to 90 %\n",
    "    idx, value = find_nearest(X_m, X_ideal)\n",
    "    idx1, value1 = find_nearest(X_m1, X_ideal)\n",
    "    idx2, value2 = find_nearest(X_m2, X_ideal)\n",
    "    \n",
    "    # Find entries in solution arrays corresponding to X_ideal\n",
    "    mu_0X = mu_0[idx]\n",
    "    mu_1X = mu_1[idx]\n",
    "    mu_2X = mu_2[idx]\n",
    "    m_X = m[idx]\n",
    "    \n",
    "    mu_0X1 = mu_01[idx1]\n",
    "    mu_1X1 = mu_11[idx1]\n",
    "    mu_2X1 = mu_21[idx1]\n",
    "    m_X1 = m1[idx1]\n",
    "\n",
    "    mu_0X2 = mu_02[idx2]\n",
    "    mu_1X2 = mu_12[idx2]\n",
    "    mu_2X2 = mu_22[idx2]\n",
    "    m_X2 = m2[idx2]\n",
    "\n",
    "    # Calculate fibril length distribution\n",
    "    alpha = alpha_dist(mu_0X, mu_1X, mu_2X)\n",
    "    beta = beta_dist(mu_0X, mu_1X, mu_2X)\n",
    "    g = gamma_dist(chi, alpha, beta)\n",
    "    \n",
    "    alpha1 = alpha_dist(mu_0X1, mu_1X1, mu_2X1)\n",
    "    beta1 = beta_dist(mu_0X1, mu_1X1, mu_2X1)\n",
    "    g1 = gamma_dist(chi, alpha1, beta1)\n",
    "    \n",
    "    alpha2 = alpha_dist(mu_0X2, mu_1X2, mu_2X2)\n",
    "    beta2 = beta_dist(mu_0X2, mu_1X2, mu_2X2)\n",
    "    g2 = gamma_dist(chi, alpha2, beta2)   \n",
    "        \n",
    "    \n",
    "    # Plot figure\n",
    "    fig, axs = plt.subplots(nrows=1, ncols=1, figsize = (6,5)) # Create figure with one plot\n",
    "    \n",
    "    plot1 = axs.plot(t/3600, mu_1*1e6, color='black', label='Original')      # Create plot of mu_1 [mumol/L] vs. t [h]\n",
    "    plot2 = axs.plot(t/3600, mu_11*1e6, color='blue', label=r'k$_+$/10')      # Create plot of mu_11 [mumol/L] vs. t [h]\n",
    "    plot3 = axs.plot(t/3600, mu_12*1e6, color='red',  label=r'k$_-$/10')      # Create plot of mu_12 [mumol/L] vs. t [h]\n",
    "\n",
    "    axs.set_xlabel('Time, $t$ [h]')   # Add x-axis label to plot\n",
    "    axs.set_ylabel(r'Total Fibril Mass, $M$ [$\\mu$M]')  # Add y-axis label to plot\n",
    "\n",
    "    # Legend\n",
    "    axs.legend()\n",
    "    \n",
    "    # Title\n",
    "    fig.suptitle('Time Evolution of the Total Fibril Mass \\n Considering Altered Rate Constants', fontsize=16, y=0.98)   # Set overall title\n",
    "        \n",
    "    # Save plot\n",
    "    filename = 'Plot_BPRE_Ex5_2'\n",
    "    plt.savefig(filename+'.pdf', bbox_inches='tight')      \n",
    "    \n",
    "    \n",
    "    # Plot figure\n",
    "    fig, axs = plt.subplots(nrows=1, ncols=1, figsize = (6,5)) # Create figure with one plot\n",
    "    \n",
    "    plot1 = axs.plot(chi, g*1e2, color='black', label='Original')      # Create plot of distro vs. fibril length\n",
    "    plot2 = axs.plot(chi, g1*1e2, color='blue', label=r'k$_+$/10')    # Create plot of distro vs. fibril length\n",
    "    plot3 = axs.plot(chi, g2*1e2, color='red', label=r'k$_-$/10')    # Create plot of distro vs. fibril length\n",
    "    \n",
    "    axs.set_xlabel('Fibril Length, $j$ [-]')   # Add x-axis label to plot\n",
    "    axs.set_ylabel(r'Probability [$\\%$]')    # Add y-axis label to plot\n",
    "\n",
    "    # Legend\n",
    "    axs.legend()\n",
    "    \n",
    "    # Title\n",
    "    fig.suptitle('Fibril Length Distribution for \\n Monomer Conversion of 90 $\\%$', fontsize=16, y=0.98)   # Set overall title\n",
    "        \n",
    "    # Save plot\n",
    "    filename = 'Plot_BPRE_Ex5_3'\n",
    "    plt.savefig(filename+'.pdf', bbox_inches='tight')   "
   ]
  },
  {
   "cell_type": "code",
   "execution_count": 12,
   "id": "a460effa",
   "metadata": {},
   "outputs": [
    {
     "data": {
      "image/png": "[encoded data removed]",
      "text/plain": [
       "<Figure size 432x360 with 1 Axes>"
      ]
     },
     "metadata": {
      "needs_background": "light"
     },
     "output_type": "display_data"
    },
    {
     "data": {
      "image/png": "[encoded data removed]",
      "text/plain": [
       "<Figure size 432x360 with 1 Axes>"
      ]
     },
     "metadata": {
      "needs_background": "light"
     },
     "output_type": "display_data"
    }
   ],
   "source": [
    "# Execute function for task b)\n",
    "TaskB()"
   ]
  },
  {
   "cell_type": "markdown",
   "id": "4f0a17d7",
   "metadata": {},
   "source": [
    "## Part c)"
   ]
  },
  {
   "cell_type": "code",
   "execution_count": 13,
   "id": "62847d88",
   "metadata": {},
   "outputs": [],
   "source": [
    "def TaskC(M_0, chi):\n",
    "    \"\"\"\n",
    "    Solve and plot the system of ODEs, Task c)\n",
    "    \"\"\"\n",
    "    # Read out input variables\n",
    "    mu_10 = M_0\n",
    "    mu_00 = M_0/1000\n",
    "    \n",
    "    # Define parameters\n",
    "    k_min = 1e-6        # Rate constant for fragmentation (minus) [1/s]\n",
    "    k_plus = 1e4        # Rate constant for elongation (plus) [1/M/s]\n",
    "    k_n = 1e-6          # Rate constant (n) [1/M/s]\n",
    "    n_C = 2             # Additional parameter (n_C) [-]\n",
    "    \n",
    "    # Define initial condition\n",
    "    m0 = 250e-6           # Initial monomer concentration [M]\n",
    "    mu_20 = 1e-12          # Initial 2th-order moment [M]\n",
    "\n",
    "    # Parameter array\n",
    "    Param  = [tMin, tMax, tStep, k_min,  k_plus,  k_n, n_C, mu_00, mu_10, mu_20, m0]\n",
    "\n",
    "    # Create and solve system of ODEs\n",
    "    mu_0, mu_1, mu_2, m, t  = solve_ode_system(Param)\n",
    "    \n",
    "    # Calculate avg. fibril length array\n",
    "    len_avg = np.divide(mu_1, mu_0)\n",
    "    \n",
    "    # Define conversion to consider in the following\n",
    "    X_ideal = 0.9\n",
    "    \n",
    "    # Calculate conversion\n",
    "    X_m = (m[0]-m)/m[0]\n",
    "    \n",
    "    # Calculate division of current monomer conc. by initial monomer conc.\n",
    "    m_m0 = m/m[0]\n",
    "    \n",
    "    # Find index of half conc.\n",
    "    idx_half, value_half = find_nearest(m_m0, 0.5)\n",
    "    \n",
    "    # Find half time\n",
    "    t_half = t[idx_half]   \n",
    "    \n",
    "    # Find index of solution arrays, where conversion is closest to 90 %\n",
    "    idx, value = find_nearest(X_m, X_ideal)\n",
    "    \n",
    "    # Find entries in solution arrays corresponding to X_ideal\n",
    "    mu_0X = mu_0[idx]\n",
    "    mu_1X = mu_1[idx]\n",
    "    mu_2X = mu_2[idx]\n",
    "    m_X = m[idx]\n",
    "    \n",
    "    # Calculate avg. fibril length at 90% converision\n",
    "    len_avgX = len_avg[idx]\n",
    "\n",
    "    # Calculate fibril length distribution\n",
    "    alpha = alpha_dist(mu_0X, mu_1X, mu_2X)\n",
    "    beta = beta_dist(mu_0X, mu_1X, mu_2X)\n",
    "    g = gamma_dist(chi, alpha, beta) \n",
    "    \n",
    "    return mu_1, t_half, g, len_avg, len_avgX"
   ]
  },
  {
   "cell_type": "code",
   "execution_count": 14,
   "id": "54704a59",
   "metadata": {},
   "outputs": [
    {
     "data": {
      "image/png": "[encoded data removed]",
      "text/plain": [
       "<Figure size 432x360 with 1 Axes>"
      ]
     },
     "metadata": {
      "needs_background": "light"
     },
     "output_type": "display_data"
    },
    {
     "data": {
      "image/png": "[encoded data removed]",
      "text/plain": [
       "<Figure size 432x360 with 1 Axes>"
      ]
     },
     "metadata": {
      "needs_background": "light"
     },
     "output_type": "display_data"
    },
    {
     "data": {
      "image/png": "[encoded data removed]",
      "text/plain": [
       "<Figure size 432x360 with 1 Axes>"
      ]
     },
     "metadata": {
      "needs_background": "light"
     },
     "output_type": "display_data"
    },
    {
     "data": {
      "image/png": "[encoded data removed]",
      "text/plain": [
       "<Figure size 432x360 with 1 Axes>"
      ]
     },
     "metadata": {
      "needs_background": "light"
     },
     "output_type": "display_data"
    },
    {
     "data": {
      "image/png": "[encoded data removed]",
      "text/plain": [
       "<Figure size 432x360 with 1 Axes>"
      ]
     },
     "metadata": {
      "needs_background": "light"
     },
     "output_type": "display_data"
    }
   ],
   "source": [
    "# Execute function for task c)\n",
    "\n",
    "# Define time limits\n",
    "tMin = 0           # Start time [s]\n",
    "tMax = 6*3600      # Maximal time [s]\n",
    "tStep = 1          # Time step size [s]\n",
    "\n",
    "# Define limits for initial fibril mass concentrations\n",
    "M0Min = 2.5*1e-13      # Initial fibril mass conc. [M]\n",
    "M0Max = 25e-6\n",
    "N_Steps = 5        # Number of steps  \n",
    "\n",
    "# Define array of times\n",
    "trange = np.arange(tMin, tMax+tStep, tStep)\n",
    "\n",
    "# Define array of initial fibril mass concentrations\n",
    "M0range = np.array([0.00000025, 0.0025, 0.025, 0.25, 2.5, 25])*1e-6\n",
    "\n",
    "# Define array of fibril lengths\n",
    "chi = np.arange(1, 8e3, 1) \n",
    "\n",
    "# Initialize empty arrays for storing the results\n",
    "mu_1 = np.zeros((len(M0range), len(trange)))\n",
    "t_half = np.zeros(len(M0range))\n",
    "g = np.zeros((len(M0range), len(chi)))\n",
    "len_avg = np.zeros((len(M0range), len(trange)))\n",
    "len_avgX = np.zeros(len(M0range))\n",
    "    \n",
    "# Loop over all M0 values\n",
    "for M0idx, M0 in enumerate(M0range):\n",
    "    \n",
    "    var1,var2,var3,var4,var5 = TaskC(M0, chi)\n",
    "    \n",
    "    mu_1[M0idx, :] = var1\n",
    "    t_half[M0idx] = var2\n",
    "    g[M0idx, :] = var3\n",
    "    len_avg[M0idx, :] = var4\n",
    "    len_avgX[M0idx] = var5\n",
    "    \n",
    "    \n",
    "# Plot figure\n",
    "fig, axs = plt.subplots(nrows=1, ncols=1, figsize = (6,5)) # Create figure with one plot\n",
    "\n",
    "for M0idx, M0 in enumerate(M0range):\n",
    "\n",
    "    plot = axs.plot(trange/3600, mu_1[M0idx, :]*1e6, label=r'$M_0 = {:.4f}$ $\\mu$M'.format(M0range[M0idx]*1e6))      # Create plot of mu_1 vs. time\n",
    "\n",
    "axs.set_xlabel('Time, $t$ [h]')   # Add x-axis label to plot\n",
    "axs.set_ylabel(r'Total Fibril Mass, $M$ [$\\mu$M]')  # Add y-axis label to plot\n",
    "\n",
    "# Legend\n",
    "axs.legend()\n",
    "\n",
    "# Title\n",
    "fig.suptitle('Time Evolution of the Total Fibril Mass \\n Varying Initial Fibril Mass Concentrations', fontsize=16, y=0.98)   # Set overall title\n",
    "\n",
    "# Save plot\n",
    "filename = 'Plot_BPRE_Ex5_4'\n",
    "plt.savefig(filename+'.pdf', bbox_inches='tight')\n",
    "\n",
    "\n",
    "# Plot figure\n",
    "fig, axs = plt.subplots(nrows=1, ncols=1, figsize = (6,5)) # Create figure with one plot\n",
    "\n",
    "plot = axs.semilogx(M0range*1e6, t_half/3600, 'ob')      # Create plot of halftime vs. initial fibril mass conc.\n",
    "\n",
    "axs.set_xlabel('Initial Fibril Mass Concentration, $M_0$ [$\\mu$M]')   # Add x-axis label to plot\n",
    "axs.set_ylabel(r'Half Time, $t_{1/2}$ [h]')  # Add y-axis label to plot\n",
    "\n",
    "# Limits\n",
    "axs.set_ylim([0, 1.2])\n",
    "\n",
    "# Title\n",
    "fig.suptitle('Half Time of the Monomer Concentration \\n Varying Initial Fibril Mass Concentrations', fontsize=16, y=0.98)   # Set overall title\n",
    "\n",
    "# Save plot\n",
    "filename = 'Plot_BPRE_Ex5_5'\n",
    "plt.savefig(filename+'.pdf', bbox_inches='tight') \n",
    "\n",
    "\n",
    "# Plot figure\n",
    "fig, axs = plt.subplots(nrows=1, ncols=1, figsize = (6,5)) # Create figure with one plot\n",
    "\n",
    "plot = axs.semilogx(M0range*1e6, len_avgX, 'ob')      # Create plot of halftime vs. initial fibril mass conc.\n",
    "\n",
    "axs.set_xlabel('Initial Fibril Mass Concentration, $M_0$ [$\\mu$M]')   # Add x-axis label to plot\n",
    "axs.set_ylabel(r'Average Fibril Length, $\\bar{j}$ [-]')  # Add y-axis label to plot\n",
    "\n",
    "# Title\n",
    "fig.suptitle('Average Fibril Length at 90 $\\%$ Conversion \\n Varying Initial Fibril Mass Concentrations', fontsize=16, y=0.98)   # Set overall title\n",
    "\n",
    "# Save plot\n",
    "filename = 'Plot_BPRE_Ex5_6'\n",
    "plt.savefig(filename+'.pdf', bbox_inches='tight') \n",
    "\n",
    "\n",
    "# Plot figure\n",
    "fig, axs = plt.subplots(nrows=1, ncols=1, figsize = (6,5)) # Create figure with one plot\n",
    "\n",
    "for M0idx, M0 in enumerate(M0range):\n",
    "\n",
    "    plot = axs.plot(trange/3600, len_avg[M0idx, :], label=r'$M_0 = {:.4f}$ $\\mu$M'.format(M0range[M0idx]*1e6))      # Create plot of mu_1 vs. time\n",
    "\n",
    "axs.set_xlabel('Time, $t$ [h]')   # Add x-axis label to plot\n",
    "axs.set_ylabel(r'Average Fibril Length, $\\bar{j}$ [-]')  # Add y-axis label to plot\n",
    "\n",
    "# Legend\n",
    "axs.legend()\n",
    "\n",
    "# Title\n",
    "fig.suptitle('Average Fibril Length Evolution \\n Varying Initial Fibril Mass Concentrations', fontsize=16, y=0.98)   # Set overall title\n",
    "\n",
    "# Save plot\n",
    "filename = 'Plot_BPRE_Ex5_7'\n",
    "plt.savefig(filename+'.pdf', bbox_inches='tight')\n",
    "\n",
    "\n",
    "# Plot figure\n",
    "fig, axs = plt.subplots(nrows=1, ncols=1, figsize = (6,5)) # Create figure with one plot\n",
    "\n",
    "for M0idx, M0 in enumerate(M0range):\n",
    "\n",
    "    plot = axs.plot(chi, g[M0idx, :]*1e2, label=r'$M_0 = {:.4f}$ $\\mu$M'.format(M0range[M0idx]*1e6))      # Create plot of mu_1 vs. time\n",
    "\n",
    "axs.set_xlabel('Fibril Length, $j$ [-]')   # Add x-axis label to plot\n",
    "axs.set_ylabel(r'Probability [$\\%$]')  # Add y-axis label to plot\n",
    "\n",
    "# Legend\n",
    "axs.legend()\n",
    "\n",
    "# Title\n",
    "fig.suptitle('Fibril Length Distribution at 90 $\\%$ Conversion \\n Varying Initial Fibril Mass Concentrations', fontsize=16, y=0.98)   # Set overall title\n",
    "\n",
    "# Save plot\n",
    "filename = 'Plot_BPRE_Ex5_8'\n",
    "plt.savefig(filename+'.pdf', bbox_inches='tight')"
   ]
  }
 ],
 "metadata": {
  "kernelspec": {
   "display_name": "Python 3 (ipykernel)",
   "language": "python",
   "name": "python3"
  },
  "language_info": {
   "codemirror_mode": {
    "name": "ipython",
    "version": 3
   },
   "file_extension": ".py",
   "mimetype": "text/x-python",
   "name": "python",
   "nbconvert_exporter": "python",
   "pygments_lexer": "ipython3",
   "version": "3.9.7"
  }
 },
 "nbformat": 4,
 "nbformat_minor": 5
}
