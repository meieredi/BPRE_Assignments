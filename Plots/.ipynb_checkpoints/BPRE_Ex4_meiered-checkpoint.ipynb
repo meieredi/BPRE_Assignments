{
 "cells": [
  {
   "cell_type": "markdown",
   "id": "9a5df037",
   "metadata": {},
   "source": [
    "<table style=\"width:100%;\">\n",
    "    <tr>\n",
    "        <td style=\"width:80%; text-align:left; vertical-align: center;\">\n",
    "            <img src=\"./ETH_Logo.svg\" alt=\"ETH logo\" align=\"left\" vspace=\"4\">\n",
    "        </td>\n",
    "        <td style=\"width:20%; text-align:left; vertical-align: top;\">\n",
    "            Biochemical Engineering Lab<br/>\n",
    "            Prof. Dr. P. Arosio<br/>\n",
    "            <img src=\"./DCHAB_Logo.png\" alt=\"DCHAB logo\" align=\"left\" vspace=\"-50\"\n",
    "             style=\"width:150px; margin: -12px 0px 0px -20px;\">\n",
    "        </td>\n",
    "    </tr>\n",
    "</table>\n",
    "\n",
    "<center> \n",
    "    <h1>Biochemical and Polymer Reaction Engineering: Exercise 4</h1>\n",
    "    <h3>by Eduard Meier</h3>\n",
    "</center>"
   ]
  },
  {
   "cell_type": "markdown",
   "id": "a0c5ecfd",
   "metadata": {},
   "source": [
    "<center> \n",
    "<img src=\"./Header.jpg\" alt=\"Polymers\" style=\"width: 800px;\"/>\n",
    "</center>"
   ]
  },
  {
   "cell_type": "markdown",
   "id": "eb08b350",
   "metadata": {},
   "source": [
    "This Jupyter Notebooks contains a presentation of the applied equations, all code (main script and various functions) used to solve the exercise as well as the resulting plots. It belongs to the course \"Biochemical and Polymer Reaction Engineering\", held by Prof. Arosio in the autumn semester 2022. References to equations inside the lecture script are indicated on the left side of the corresponding equations and refer to the equation number in the lecture script."
   ]
  },
  {
   "cell_type": "markdown",
   "id": "773e64d9",
   "metadata": {},
   "source": [
    "# 1 Equations and Derivations"
   ]
  },
  {
   "cell_type": "markdown",
   "id": "3456a20a",
   "metadata": {},
   "source": [
    "## 1.1 Part a)"
   ]
  },
  {
   "cell_type": "markdown",
   "id": "bb447df3",
   "metadata": {},
   "source": [
    "In a batch reactor, the mass balance of the substrate $S$ reads\n",
    " \n",
    "\\begin{equation}\n",
    "    (\\mathrm{Ch.} 7.6) \\;\\;\\;\\;\\;\\; V \\frac{\\mathrm{d}[S]}{\\mathrm{d}t} = -r_S V\n",
    "\\end{equation}\n",
    "\n",
    "with the reaction rate $r_S$ and volume $V$. Thus, the evolution of concentration (and also conversion) of species $S$ is solely determined by the reaction rate, which is governed by Michaelis-Menten kinetics:\n",
    "\n",
    "\\begin{equation}\n",
    "    (\\mathrm{Ex}) \\;\\;\\;\\;\\;\\; \\frac{\\mathrm{d}[S]}{\\mathrm{d}t} = - \\frac{V_\\mathrm{max}[S]}{K_m + [S]} \n",
    "\\end{equation}\n",
    "\n",
    "The above ODE is thus numerically solved with the initial condition $[S](t=0) = [S]_0$."
   ]
  },
  {
   "cell_type": "markdown",
   "id": "a0b2810e",
   "metadata": {},
   "source": [
    "## 1.2 Part b)"
   ]
  },
  {
   "cell_type": "markdown",
   "id": "b16bcf80",
   "metadata": {},
   "source": [
    "In a series of continuous stirred tank reactor (CSTR), the steady-state mass balance of the substrate $S$ for CSTR $i$ reads\n",
    "\n",
    "\\begin{equation}\n",
    "    (\\mathrm{Ch.} 7.6) \\;\\;\\;\\;\\;\\; \\frac{\\mathrm{d}[S]_i}{\\mathrm{d}t} = \\frac{1}{\\tau_i} \\left( [S]_{i,\\mathrm{in}} - [S]_i \\right) - \\frac{V_\\mathrm{max}[S]_i}{K_m + [S]_i} = 0\n",
    "\\end{equation}\n",
    "\n",
    "Due to the assumption of steady-state, the system of coupled ODEs reduces to a system of algebraic equations. However, in this case, rearranging for yields a quadratic equation for $[S]$\n",
    "\n",
    "\\begin{equation}\n",
    "    -[S]_i^2 + \\left( [S]_{i,\\mathrm{in}} - K_m - \\tau_i V_\\mathrm{max} \\right) [S] + K_m [S]_{i,\\mathrm{in}} = 0\n",
    "\\end{equation}"
   ]
  },
  {
   "cell_type": "markdown",
   "id": "a18306aa",
   "metadata": {},
   "source": [
    "The solution of which reads:\n",
    "\n",
    "\\begin{equation}\n",
    "    [S]_i = \\frac{\\left( [S]_{i,\\mathrm{in}} - K_m - \\tau_i V_\\mathrm{max} \\right) \\mp \\sqrt{\\left( [S]_{i,\\mathrm{in}} - K_m - \\tau_i V_\\mathrm{max} \\right)^2+4 K_m [S]_{i,\\mathrm{in}}}}{2}\n",
    "\\end{equation}\n",
    "\n",
    "Iteratively applying this equation starting from the first CSTR yields the solution to the given problem."
   ]
  },
  {
   "cell_type": "markdown",
   "id": "7a67489f",
   "metadata": {},
   "source": [
    "## 1.3 Part c)"
   ]
  },
  {
   "cell_type": "markdown",
   "id": "52818248",
   "metadata": {},
   "source": [
    "Similarly to the previous task, the steady-state mass balance for the substrate $S$ in the $i$th CSTR can be written as\n",
    "\n",
    "\\begin{equation}\n",
    "    \\frac{\\mathrm{d}[S]_i}{\\mathrm{d}t} = \\frac{1}{\\tau_i} \\left( [S]_{i-1} - [S]_i \\right) - \\frac{V_\\mathrm{max}[S]_i}{K_m + [S]_i} = 0  \\; .\n",
    "\\end{equation}"
   ]
  },
  {
   "cell_type": "markdown",
   "id": "e6102d13",
   "metadata": {},
   "source": [
    "Rearranging for the residence time times the maximal reaction rate yields\n",
    "\n",
    "\\begin{equation}\n",
    "    \\tau_i V_{\\mathrm{max}} = \\left( [S]_{i-1} - [S]_i \\right) \\frac{K_m + [S]_i}{[S]_i} \\; .\n",
    "\\end{equation}\n",
    "\n",
    "Dividing by the initial substrate concentration $[S]_0$ gives\n",
    "\n",
    "\\begin{equation}\n",
    "    \\frac{\\tau_i V_{\\mathrm{max}}}{[S]_0} = \\left( [S]_{i-1} - [S]_i \\right) \\frac{K_m + [S]_i}{[S]_i [S]_0}  \\; .\n",
    "\\end{equation}\n"
   ]
  },
  {
   "cell_type": "markdown",
   "id": "3108c098",
   "metadata": {},
   "source": [
    "When introducing the dimensionless substrate concentration $\\alpha_i = S_i/S_0$, the dimensionless residence time in the $i$th CSTR $\\theta_i = (\\tau_i V_{\\mathrm{max}})/S_0$ and the ratio $\\kappa = K_m/S_0$ into the above equation and slight rearranging leads to\n",
    "\n",
    "\\begin{equation}\n",
    "    \\theta_i = \\frac{(\\alpha_{i-1}-\\alpha_i)(\\kappa + \\alpha_i)}{\\alpha_i}\n",
    "\\end{equation}"
   ]
  },
  {
   "cell_type": "markdown",
   "id": "efc49a0d",
   "metadata": {},
   "source": [
    "To find the intermediate $\\theta_i$ values which correspond to the minimum total residence time, the following equation has to be solved:\n",
    "\n",
    "\\begin{equation}\n",
    "    \\frac{\\mathrm{d}\\sum_{j=1}^N \\theta_j}{\\mathrm{d} \\alpha_i} = 0, \\;\\;\\;\\;\\; i = 1, 2, ..., N-1\n",
    "\\end{equation}"
   ]
  },
  {
   "cell_type": "markdown",
   "id": "019e8dce",
   "metadata": {},
   "source": [
    "Considering the derived relation for $\\theta_i$, only two terms in the whole sum contain $\\alpha_i$ (i.e. $\\theta_i$ and $\\theta_{i+1}$), which leads to the following derivative:\n",
    "\n",
    "\\begin{equation}\n",
    "    \\frac{\\mathrm{d}}{\\mathrm{d}\\alpha_i} \\left[ \\frac{(\\alpha_{i-1}-\\alpha_i)(\\kappa + \\alpha_i)}{\\alpha_i} + \\frac{(\\alpha_i - \\alpha_{i-1})(\\kappa+\\alpha_{i+1})}{\\alpha_{i+1}} \\right] = 0\n",
    "\\end{equation}"
   ]
  },
  {
   "cell_type": "markdown",
   "id": "489da74a",
   "metadata": {},
   "source": [
    "By calculation of the derivative, one can easily find the expression\n",
    "\n",
    "\\begin{equation}\n",
    "    \\alpha_i^2 = \\alpha_{i-1} \\alpha_{i+1}, \\;\\;\\;\\;\\; i = 1, 2, ..., N-1\n",
    "\\end{equation}"
   ]
  },
  {
   "cell_type": "markdown",
   "id": "43ac01e5",
   "metadata": {},
   "source": [
    "which can be further rearranged by expliciting the terms for each reactor and using a bottom up approach to:\n",
    "\n",
    "\\begin{equation}\n",
    "    (\\mathrm{Ex}) \\;\\;\\;\\;\\;\\; \\alpha_i = \\alpha_{i+1}^{i/(i+1)}, \\;\\;\\;\\;\\; i = 1, 2, ..., N-1\n",
    "\\end{equation}"
   ]
  },
  {
   "cell_type": "markdown",
   "id": "840ca5ab",
   "metadata": {},
   "source": [
    "## 1.4 Part d)"
   ]
  },
  {
   "cell_type": "markdown",
   "id": "6e038d3e",
   "metadata": {},
   "source": [
    "Given the desired substrate conversion of 80 %, the dimensionless substrate concentrations can be calculated using a top-down approach with the equation \n",
    "\n",
    "\\begin{equation}\n",
    "    (\\mathrm{Ex}) \\;\\;\\;\\;\\;\\; \\alpha_i = \\alpha_{i+1}^{i/(i+1)}, \\;\\;\\;\\;\\; i = 1, 2, ..., N-1\n",
    "\\end{equation}\n",
    "\n",
    "which can be rewritten in terms of conversion ($X_i = 1-\\alpha_i$):\n",
    "\n",
    "\\begin{equation}\n",
    "    (\\mathrm{Ex}) \\;\\;\\;\\;\\;\\; 1-X_i = (1-X_{i+1})^{i/(i+1)}, \\;\\;\\;\\;\\; i = 1, 2, ..., N-1\n",
    "\\end{equation}"
   ]
  },
  {
   "cell_type": "markdown",
   "id": "665592d5",
   "metadata": {},
   "source": [
    "# 2. Plots and Discussion"
   ]
  },
  {
   "cell_type": "markdown",
   "id": "304c4ea9",
   "metadata": {},
   "source": [
    "## Part a)"
   ]
  },
  {
   "cell_type": "markdown",
   "id": "6fed397a",
   "metadata": {},
   "source": [
    "<figure> \n",
    "    <center>\n",
    "    <img src=\"./Plot_BPRE_Ex4_1.pdf\" alt=\"MM_Batch\"  style=\"width: 800px;\"/>\n",
    "    <figcaption> Figure 1: Evolution of the substrate concentration and conversion of an enzymatic reaction featuring Michaelis-Menten kinetics in a batch reactor. </figcaption>\n",
    "    </center>\n",
    "</figure>"
   ]
  },
  {
   "cell_type": "markdown",
   "id": "3d8df6a4",
   "metadata": {},
   "source": [
    "The time evolution of the substrate concentration in a batch reactor is only incluenced by the reaction rate and the chosen initial conditions. Integration of the Michaelis-Menten ODE yielded the diagrams displayed above.\n",
    "As can be seen in the evolution of the substance concentration over time, at high concentration the decrease happens at a constant rate and is linear, while at low concentrations and conversions higher than 70%, the decline in concentration significantly slows down, since the probability of binding events between an enzyme and the substrate is much lower. The reaction time required to reach a conversion of 80% was calculated to be 5.80 hours."
   ]
  },
  {
   "cell_type": "markdown",
   "id": "129fbf0f",
   "metadata": {},
   "source": [
    "## Part b)"
   ]
  },
  {
   "cell_type": "markdown",
   "id": "8234b765",
   "metadata": {},
   "source": [
    "<figure> \n",
    "    <center>\n",
    "    <img src=\"./Plot_BPRE_Ex4_2.pdf\" alt=\"CSTR\"  style=\"width: 800px;\"/>\n",
    "    <figcaption> Figure 2: Evolution of the substrate concentration and conversion of an enzymatic reation featuring Michaelis-Menten kinetics in a series of 3 CSTRs.</figcaption>\n",
    "    </center>\n",
    "</figure>"
   ]
  },
  {
   "cell_type": "markdown",
   "id": "28d32c25",
   "metadata": {},
   "source": [
    "Figure 2 shows the evolution of the substrate concentration with time in a cascade of 3 CSTRs. The assumption of instantaneous perfect mixing leads to discontinuities at the transitions between the reactors. In this case, each CSTR has the same residence time, given by reaction time for 80% conversion found in the batch case divided by the number of CSTRs employed. The substrate conversions were determined to be 27.87%, 54.22% and 77.15% relative to the initial feed concentration.\n",
    "\n",
    "Comparison of the 80% conversion achieved in the batch model with the total conversion after the third CSTR (77.15%) shows, that the sequence of CSTRs is slightly less productive considering the same total reaction time of 5.80 h. The lower conversion results for example in a higher separation duty required downstream to the reactors, since less of the substrate has been converted to product. However, a continuous process can still be advantageous for a large scale implementation since it can be more easily automated and furthermore by optimizing the residence times in the three CSTRs, the achieved conversion can be further increased, which will be considered in the subsequent tasks."
   ]
  },
  {
   "cell_type": "markdown",
   "id": "7b8d2dff",
   "metadata": {},
   "source": [
    "## Part c)"
   ]
  },
  {
   "cell_type": "markdown",
   "id": "c63117ad",
   "metadata": {},
   "source": [
    "The derivation of the equation\n",
    "\n",
    "\\begin{equation}\n",
    "    \\alpha_i^2 = \\alpha_{i-1} \\alpha_{i+1}, \\;\\;\\;\\;\\; i = 1, 2, ..., N-1\n",
    "\\end{equation}\n",
    "\n",
    "can be found in the section 1.3 above."
   ]
  },
  {
   "cell_type": "markdown",
   "id": "963bbda1",
   "metadata": {},
   "source": [
    "## Part d)"
   ]
  },
  {
   "cell_type": "markdown",
   "id": "59eecb69",
   "metadata": {},
   "source": [
    "<figure> \n",
    "    <center>\n",
    "    <img src=\"./Plot_BPRE_Ex4_4.pdf\" alt=\"CSTR2\"  style=\"width: 800px;\"/>\n",
    "    <figcaption> Figure 3: Evolution of the substrate concentration and conversion of an enzymatic reation featuring Michaelis-Menten kinetics in a series of 3 CSTRs with optimized residence times.</figcaption>\n",
    "    </center>\n",
    "</figure>"
   ]
  },
  {
   "cell_type": "markdown",
   "id": "1cbb6bc3",
   "metadata": {},
   "source": [
    "Based on the equation mentioned and derived above, the conversions after all CSTR reactors were calculated to be 41.52%, 65.80% and 80% (specified), which are displayed above in Figure 3. In addition, residence times of 2.94 h, 1.87 h and 1.24 h were calculated for the same three CSTR reactors in series. Consequently, a total time of 6.06 h is required to achieve a conversion of 80%, thus the higher achieved conversion (3.7% higher) is accompanied by a higher required reaction time (4.5% higher). However, in practice, the slight increase in reaction time is more than overcompensated by the decrease in downstream separation cost and the increase in profit due to the higher production volume.\n",
    "\n",
    "In addition, the same method was generalized to an arbitrary number of CSTRs, and as can be seen below, the increase in number of CSTRs employed further reduces the required reaction time. While a cascade of 8 CSTRs features a required reaction time of 5.88 h to achieve a conversion of 80%, a cascade of 100 CSTRs in series comes extremely close to the reaction time of the batch case with 5.80 h. Thus, the limit of the CSTR cascade reaction time converges to the batch case."
   ]
  },
  {
   "cell_type": "markdown",
   "id": "93eb7cba",
   "metadata": {},
   "source": [
    "<figure> \n",
    "    <center>\n",
    "    <img src=\"./Plot_BPRE_Ex4_4_Supplementary.pdf\" alt=\"CSTR3\"  style=\"width: 800px;\"/>\n",
    "    <figcaption> Figure 4: Evolution of the substrate concentration and conversion of an enzymatic reation featuring Michaelis-Menten kinetics in a series of 8 CSTRs.</figcaption>\n",
    "    </center>\n",
    "</figure>"
   ]
  },
  {
   "cell_type": "markdown",
   "id": "c8711f4c",
   "metadata": {},
   "source": [
    "<figure> \n",
    "    <center>\n",
    "    <img src=\"./Plot_BPRE_Ex4_4_Supplementary2.pdf\" alt=\"CSTR4\"  style=\"width: 800px;\"/>\n",
    "    <figcaption> Figure 5: Evolution of the substrate concentration and conversion of an enzymatic reation featuring Michaelis-Menten kinetics in a series of 100 CSTRs.</figcaption>\n",
    "    </center>\n",
    "</figure>"
   ]
  },
  {
   "cell_type": "markdown",
   "id": "b29072b0",
   "metadata": {},
   "source": [
    "# Python Code"
   ]
  },
  {
   "cell_type": "markdown",
   "id": "3aef39a2",
   "metadata": {},
   "source": [
    "Import of the relevant libraries."
   ]
  },
  {
   "cell_type": "code",
   "execution_count": 1,
   "id": "fee284de",
   "metadata": {},
   "outputs": [],
   "source": [
    "# Import libraries and other preliminaries\n",
    "\n",
    "import numpy as np                    # Import numerical python library\n",
    "import matplotlib as mpl              # Import python mathematical plotting library\n",
    "import matplotlib.pyplot as plt       # Import python mathematical plotting library\n",
    "from scipy.integrate import solve_ivp # Import solver for (system of coupled) ODEs\n",
    "\n",
    "# Use LaTeX font in plots:\n",
    "plt.rcParams.update({\n",
    "    'text.usetex': True,\n",
    "    'font.family': 'serif',\n",
    "    'font.serif': ['Computern Modern Roman'],\n",
    "})"
   ]
  },
  {
   "cell_type": "markdown",
   "id": "079070c1",
   "metadata": {},
   "source": [
    "## Part a)"
   ]
  },
  {
   "cell_type": "code",
   "execution_count": 2,
   "id": "116e0b2a",
   "metadata": {},
   "outputs": [],
   "source": [
    "def ode_Batch(t, y, V_max, K_m):\n",
    "    c_S = y\n",
    "    dS_dt = - V_max * c_S / (K_m + c_S)\n",
    "    return dS_dt"
   ]
  },
  {
   "cell_type": "code",
   "execution_count": 3,
   "id": "6300e1d1",
   "metadata": {},
   "outputs": [],
   "source": [
    "def solve_ode(Param, IsBatch):\n",
    "    \"\"\"\n",
    "    Solve the Michaelis-Menten ODE in a Batch system\n",
    "    \"\"\"\n",
    "\n",
    "    if IsBatch:\n",
    "    \n",
    "        # Read-out parameters and initial conditions\n",
    "        tMin = Param[0]\n",
    "        tMax = Param[1]\n",
    "        tStep = Param[2]\n",
    "        V_max = Param[3]\n",
    "        K_m = Param[4]\n",
    "        c_S0 = Param[5]\n",
    "\n",
    "        # Define initial condition vector\n",
    "        y0 = [c_S0]\n",
    "        \n",
    "        # Define time limits\n",
    "        tlimits = [tMin, tMax]\n",
    "        trange = np.arange(tMin, tMax+tStep, tStep)\n",
    "\n",
    "        # Define additional ODE parameters\n",
    "        Param_ODE = [V_max, K_m]\n",
    "\n",
    "        # Solve system of ODEs (use Runge-Kutta 4-5th order for numerical integration)\n",
    "        Sol= solve_ivp(ode_Batch, tlimits, y0, args=Param_ODE, method='RK45', t_eval=trange)\n",
    "        t = Sol.t\n",
    "        c_S = Sol.y[0]\n",
    "        \n",
    "        # Calculate conversion\n",
    "        X_S = (c_S0 - c_S) / c_S0\n",
    "\n",
    "    return c_S, X_S, t    "
   ]
  },
  {
   "cell_type": "code",
   "execution_count": 4,
   "id": "2b55a400",
   "metadata": {},
   "outputs": [],
   "source": [
    "def find_nearest(array, value):\n",
    "    array = np.asarray(array)\n",
    "    idx = (np.abs(array - value)).argmin()\n",
    "    return idx, array[idx]"
   ]
  },
  {
   "cell_type": "code",
   "execution_count": 5,
   "id": "ec4c45f3",
   "metadata": {
    "scrolled": false
   },
   "outputs": [],
   "source": [
    "def TaskA():\n",
    "    \"\"\"\n",
    "    Solve and plot the Michaelis-Menten ODE for a batch system\n",
    "    \"\"\"\n",
    "    # Define parameters\n",
    "    V_max = 4.45e-3     # Maximal reaction speed [mol/m^3/s]\n",
    "    K_m = 8             # Michaelis-Menten constant [mol/m^3]\n",
    "    \n",
    "    # Define time steps and limits for ODE integration\n",
    "    tMin = 0            # Start time [s]\n",
    "    tMax = 20*3600      # Maximal time [s]\n",
    "    tStep = 1           # Time step size [s]\n",
    "    \n",
    "    # Define initial condition\n",
    "    c_S0 = 100.0        # Initial substrate conc. [mol/m^3]\n",
    "\n",
    "    # Parameter array\n",
    "    Param = [tMin, tMax, tStep, V_max, K_m, c_S0]\n",
    "    \n",
    "    # Create and solve system of ODEs\n",
    "    c_S, X_S, t = solve_ode(Param, IsBatch=1)\n",
    "    \n",
    "    # Find time needed for 80% substrate conversion\n",
    "    global X_ideal        # To use ideal conversion in other tasks of assignment\n",
    "    X_ideal = 0.8\n",
    "    idx_real, X_real = find_nearest(X_S, X_ideal)\n",
    "    global t_real         # To use time in other tasks of assignment\n",
    "    t_real = t[idx_real]\n",
    "    print('The time to reach a conversion of {:.2f} % is {:.1f} h.'.format(X_real*1e2, t_real/3600))\n",
    "        \n",
    "    # Plot figure\n",
    "    fig, axs = plt.subplots(nrows=1, ncols=2, figsize = (12,5)) # Create figure with one plot\n",
    "    \n",
    "    plot1 = axs[0].plot(t/3600, c_S, color='black')      # Create plot of c_S [mol/m^3] vs. t [h]\n",
    "    axs[0].set_xlabel('Time, $t$ [h]')   # Add x-axis label to plot\n",
    "    axs[0].set_ylabel(r'Substrate Concentration, $[S]$ [mol m$^{-3}$]')  # Add y-axis label to plot\n",
    "\n",
    "    plot2 = axs[1].plot(t/3600, X_S*1e2, color='black')      # Create plot of c_S [mol/m^3] vs. t [h]\n",
    "    axs[1].set_xlabel('Time, $t$ [h]')   # Add x-axis label to plot\n",
    "    axs[1].set_ylabel(r'Substrate Conversion, $X_S$ [$\\%$]')  # Add y-axis label to plot\n",
    "\n",
    "    # Title\n",
    "    fig.suptitle('Michaelis-Menten Kinetics in a Batch Reactor', fontsize=16, y=0.98)   # Set overall title\n",
    "        \n",
    "    # Save plot\n",
    "    filename = 'Plot_BPRE_Ex4_1'\n",
    "    plt.savefig(filename+'.pdf', bbox_inches='tight')      "
   ]
  },
  {
   "cell_type": "code",
   "execution_count": 6,
   "id": "d2bd489b",
   "metadata": {},
   "outputs": [
    {
     "name": "stdout",
     "output_type": "stream",
     "text": [
      "The time to reach a conversion of 80.00 % is 5.8 h.\n"
     ]
    },
    {
     "data": {
      "image/png": "[encoded data removed]",
      "text/plain": [
       "<Figure size 864x360 with 2 Axes>"
      ]
     },
     "metadata": {
      "needs_background": "light"
     },
     "output_type": "display_data"
    }
   ],
   "source": [
    "# Execute task a)\n",
    "TaskA()"
   ]
  },
  {
   "cell_type": "markdown",
   "id": "49a6a7b8",
   "metadata": {},
   "source": [
    "## Part b)"
   ]
  },
  {
   "cell_type": "code",
   "execution_count": 7,
   "id": "451ab0bb",
   "metadata": {},
   "outputs": [],
   "source": [
    "def cS(c_Sin, K_m, tau, V_max):\n",
    "    c_S_minus = ((c_Sin - K_m - tau*V_max) - np.sqrt((c_Sin-K_m-tau*V_max)**2 + 4*K_m*c_Sin))/2\n",
    "    c_S_plus = ((c_Sin - K_m - tau*V_max) + np.sqrt((c_Sin-K_m-tau*V_max)**2 + 4*K_m*c_Sin))/2\n",
    "    \n",
    "    if c_S_minus >= 0:\n",
    "        return c_S_minus\n",
    "    else: \n",
    "        return c_S_plus"
   ]
  },
  {
   "cell_type": "code",
   "execution_count": 8,
   "id": "210be709",
   "metadata": {},
   "outputs": [],
   "source": [
    "def TaskB():\n",
    "    \"\"\"\n",
    "    Solve and plot the Michaelis-Menten ODE for a series of 3 CSTRs -> not generalized for N CSTRs!\n",
    "    \"\"\"\n",
    "    # Define parameters\n",
    "    V_max = 4.45e-3     # Maximal reaction speed [mol/m^3/s]\n",
    "    K_m = 8             # Michaelis-Menten constant [mol/m^3]\n",
    "\n",
    "    # Import time until conversion of 80% is reached in batch\n",
    "    global t_real         # To use time in other tasks of assignment\n",
    "    \n",
    "    # Define time steps and limits \n",
    "    tMin = 0            # Start time [s]\n",
    "    tMax = t_real       # Maximal time [s]\n",
    "    tStep = 0.1           # Time step size [s]\n",
    "    \n",
    "    # Create array of times and substrate concentrations\n",
    "    trange = np.arange(tMin, tMax+tStep, tStep)\n",
    "    c_S = np.zeros(len(trange))\n",
    "    \n",
    "    # Define initial condition\n",
    "    c_S0 = 100.0        # Initial substrate conc. [mol/m^3]\n",
    "    c_Sin1 = c_S0       # Conc. at inlet of first CSTR\n",
    "\n",
    "    # Calculate residence time in each CSTR (total of 3 CSTRS)\n",
    "    N_CSTR = 3\n",
    "    tau = t_real/N_CSTR \n",
    "    \n",
    "    # Iteratively calculate CSTR concentrations\n",
    "    c_Sout1 = cS(c_Sin1, K_m, tau, V_max)\n",
    "    c_Sin2 = c_Sout1\n",
    "    \n",
    "    c_Sout2 = cS(c_Sin2, K_m, tau, V_max)\n",
    "    c_Sin3 = c_Sout2\n",
    "    \n",
    "    c_Sout3 = cS(c_Sin3, K_m, tau, V_max)\n",
    "\n",
    "    # Assign the concentrations to the correct values in the c_S array\n",
    "    for timeidx, time in enumerate(trange):\n",
    "        \n",
    "        if time <= tau:\n",
    "            c_S[timeidx] = c_Sout1\n",
    "            \n",
    "        elif time <= 2*tau:\n",
    "            c_S[timeidx] = c_Sout2\n",
    "            \n",
    "        else:\n",
    "            c_S[timeidx] = c_Sout3     \n",
    "\n",
    "    # Calculate conversion\n",
    "    X_S = (c_S0 - c_S)/c_S0\n",
    "    \n",
    "    # Print the conversions in the three reactors and total time\n",
    "    print('The conversions in the three CSTRs are: ', np.unique(X_S)*1e2, '%')\n",
    "    print('This requires a total time of {:.2f}'.format(t_real/3600), 'h')\n",
    "        \n",
    "    # Plot figure\n",
    "    fig, axs = plt.subplots(nrows=1, ncols=2, figsize = (12,5)) # Create figure with one plot\n",
    "    \n",
    "    plot1 = axs[0].plot(trange/3600, c_S, color='black')      # Create plot of c_S [mol/m^3] vs. t [h]\n",
    "    axs[0].set_xlabel('Time, $t$ [h]')   # Add x-axis label to plot\n",
    "    axs[0].set_ylabel(r'Substrate Concentration, $[S]$ [mol m$^{-3}$]')  # Add y-axis label to plot\n",
    "\n",
    "    plot2 = axs[1].plot(trange/3600, X_S*1e2, color='black')      # Create plot of c_S [mol/m^3] vs. t [h]\n",
    "    axs[1].set_xlabel('Time, $t$ [h]')   # Add x-axis label to plot\n",
    "    axs[1].set_ylabel(r'Substrate Conversion, $X_S$ [$\\%$]')  # Add y-axis label to plot\n",
    "\n",
    "    # Title\n",
    "    fig.suptitle('Michaelis-Menten Kinetics in a Series of 3 CSTRs', fontsize=16, y=0.98)   # Set overall title\n",
    "        \n",
    "    # Save plot\n",
    "    filename = 'Plot_BPRE_Ex4_2'\n",
    "    plt.savefig(filename+'.pdf', bbox_inches='tight') \n"
   ]
  },
  {
   "cell_type": "code",
   "execution_count": 9,
   "id": "bb5f3665",
   "metadata": {},
   "outputs": [
    {
     "name": "stdout",
     "output_type": "stream",
     "text": [
      "The conversions in the three CSTRs are:  [27.8691747  54.22355428 77.15406887] %\n",
      "This requires a total time of 5.80 h\n"
     ]
    },
    {
     "data": {
      "image/png": "[encoded data removed]",
      "text/plain": [
       "<Figure size 864x360 with 2 Axes>"
      ]
     },
     "metadata": {
      "needs_background": "light"
     },
     "output_type": "display_data"
    }
   ],
   "source": [
    "# Execute task b)\n",
    "TaskB()"
   ]
  },
  {
   "cell_type": "markdown",
   "id": "47bb31bc",
   "metadata": {},
   "source": [
    "## Part d)"
   ]
  },
  {
   "cell_type": "code",
   "execution_count": 10,
   "id": "02e05f72",
   "metadata": {},
   "outputs": [],
   "source": [
    "def thetai(alpha, kappa):\n",
    "    theta = np.zeros(len(alpha))\n",
    "    for i in range(1, len(alpha)):\n",
    "        theta[i] = (alpha[i-1]-alpha[i]) * (kappa+alpha[i]) / alpha[i]\n",
    "    return theta"
   ]
  },
  {
   "cell_type": "code",
   "execution_count": 11,
   "id": "6cd2c4e7",
   "metadata": {},
   "outputs": [],
   "source": [
    "def taui(theta, V_max, c_S0):\n",
    "    return theta*c_S0/V_max"
   ]
  },
  {
   "cell_type": "code",
   "execution_count": 12,
   "id": "3d3a10a4",
   "metadata": {},
   "outputs": [],
   "source": [
    "def TaskD(N_CSTR):\n",
    "    \"\"\"\n",
    "    Solve and plot the Michaelis-Menten ODE for a series of N CSTRs -> generalized version\n",
    "    with optimized residence time distributions\n",
    "    \"\"\"\n",
    "    # Define parameters\n",
    "    V_max = 4.45e-3     # Maximal reaction speed [mol/m^3/s]\n",
    "    K_m = 8             # Michaelis-Menten constant [mol/m^3]\n",
    "    \n",
    "    # Define initial condition\n",
    "    c_S0 = 100.0        # Initial substrate conc. [mol/m^3]\n",
    "    c_Sin1 = c_S0       # Conc. at inlet of first CSTR\n",
    "\n",
    "    # Define number of CSTRs in series\n",
    "    if N_CSTR == 3:\n",
    "        filename = 'Plot_BPRE_Ex4_4'\n",
    "    elif N_CSTR == 8:\n",
    "        filename = 'Plot_BPRE_Ex4_4_Supplementary'\n",
    "    else:\n",
    "        filename = 'Plot_BPRE_Ex4_4_Supplementary2'\n",
    "\n",
    "    # Calculate kappa\n",
    "    kappa = K_m / c_S0\n",
    "    \n",
    "    # Calculate conversion for last CSTR\n",
    "    X_S = np.zeros(N_CSTR+1)\n",
    "    X_S[N_CSTR] = X_ideal\n",
    "        \n",
    "    # Iteratively calculate previous CSTR conversions (count down in for loop)\n",
    "    for i in range(N_CSTR-1, 0, -1):\n",
    "        X_S[i] = 1 - (1-X_S[i+1])**(i/(i+1))\n",
    "        \n",
    "    # Ignore first element of X_S, which was required since python starts indexing at 0\n",
    "    print('Ignore first element of the following arrays, which was required since python starts indexing at 0')\n",
    "    print('The conversions in the CSTRs are: ', X_S*1e2, '%')\n",
    "        \n",
    "    # Calculate alpha from conversion\n",
    "    alpha = 1 - X_S\n",
    "    \n",
    "    # Calculate theta from alpha\n",
    "    theta = thetai(alpha, kappa)\n",
    "    \n",
    "    # Calculate corresponding residence times in the CSTRs\n",
    "    tau = taui(theta, V_max, c_S0)\n",
    "    print('The residence times in the CSTRs are:', tau/3600, 'h')\n",
    "    \n",
    "    # Calculate total time\n",
    "    t_total = np.sum(tau)\n",
    "    print('This requires a total time of {:.2f}'.format(t_total/3600), 'h')\n",
    "        \n",
    "    # Define time steps and limits \n",
    "    tMin = 0            # Start time [s]\n",
    "    tMax = t_total       # Maximal time [s]\n",
    "    tStep = 1           # Time step size [s]\n",
    "        \n",
    "    # Create array of times and substrate concentrations\n",
    "    trange = np.arange(tMin, int(tMax)+tStep, tStep)\n",
    "    c_S = np.zeros(len(trange))\n",
    "    \n",
    "    # Assign conversions to array\n",
    "    X_Srange = np.zeros(len(trange))\n",
    "    \n",
    "    for timeidx, time in enumerate(trange):\n",
    "        \n",
    "        N_Count = 0\n",
    "                \n",
    "        for tauidx, tauel in enumerate(tau):\n",
    "            \n",
    "            taucum = np.sum(tau[:tauidx+1])  \n",
    "            \n",
    "            #print(tauidx)\n",
    "            #print(taucum/3600)\n",
    "                \n",
    "            if time <= taucum and N_Count == 0:\n",
    "                                \n",
    "                X_Srange[timeidx] = X_S[tauidx]\n",
    "                \n",
    "                N_Count += 1\n",
    "                \n",
    "                #print(time, tauidx, X_Srange)\n",
    "           \n",
    "        \n",
    "    # Calculate concentrations from conversions\n",
    "    c_S = np.zeros(len(trange))\n",
    "    c_S = c_S0*(1-X_Srange)\n",
    "        \n",
    "    # Plot figure\n",
    "    fig, axs = plt.subplots(nrows=1, ncols=2, figsize = (12,5)) # Create figure with one plot\n",
    "    \n",
    "    plot1 = axs[0].plot(trange/3600, c_S, color='black')      # Create plot of c_S [mol/m^3] vs. t [h]\n",
    "    axs[0].set_xlabel('Time, $t$ [h]')   # Add x-axis label to plot\n",
    "    axs[0].set_ylabel(r'Substrate Concentration, $[S]$ [mol m$^{-3}$]')  # Add y-axis label to plot\n",
    "    axs[0].set_xlim([0, t_total/3600])\n",
    "\n",
    "    plot2 = axs[1].plot(trange/3600, X_Srange*1e2, color='black')      # Create plot of c_S [mol/m^3] vs. t [h]\n",
    "    axs[1].set_xlabel('Time, $t$ [h]')   # Add x-axis label to plot\n",
    "    axs[1].set_ylabel(r'Substrate Conversion, $X_S$ [$\\%$]')  # Add y-axis label to plot\n",
    "    axs[1].set_xlim([0, t_total/3600])\n",
    "    \n",
    "    # Title\n",
    "    fig.suptitle('Michaelis-Menten Kinetics in a Series of {:.0f} CSTRs'.format(N_CSTR), fontsize=16, y=0.98)   # Set overall title\n",
    "        \n",
    "    # Save plot\n",
    "    plt.savefig(filename+'.pdf', bbox_inches='tight')"
   ]
  },
  {
   "cell_type": "code",
   "execution_count": 13,
   "id": "d58aba94",
   "metadata": {},
   "outputs": [
    {
     "name": "stdout",
     "output_type": "stream",
     "text": [
      "Ignore first element of the following arrays, which was required since python starts indexing at 0\n",
      "The conversions in the CSTRs are:  [ 0.         41.51964524 65.80048107 80.        ] %\n",
      "The residence times in the CSTRs are: [0.         2.94628295 1.87020246 1.24090677] h\n",
      "This requires a total time of 6.06 h\n"
     ]
    },
    {
     "data": {
      "image/png": "[encoded data removed]",
      "text/plain": [
       "<Figure size 864x360 with 2 Axes>"
      ]
     },
     "metadata": {
      "needs_background": "light"
     },
     "output_type": "display_data"
    }
   ],
   "source": [
    "# Execute task d)\n",
    "TaskD(N_CSTR = 3)"
   ]
  },
  {
   "cell_type": "code",
   "execution_count": 14,
   "id": "19133bf9",
   "metadata": {},
   "outputs": [
    {
     "name": "stdout",
     "output_type": "stream",
     "text": [
      "Ignore first element of the following arrays, which was required since python starts indexing at 0\n",
      "The conversions in the CSTRs are:  [ 0.         18.2234566  33.1259695  45.31272943 55.27864045 63.428418\n",
      " 70.09302438 75.5431091  80.        ] %\n",
      "The residence times in the CSTRs are: [0.         1.24882728 1.04152742 0.87200476 0.73337499 0.62000836\n",
      " 0.52730104 0.45148821 0.38949109] h\n",
      "This requires a total time of 5.88 h\n"
     ]
    },
    {
     "data": {
      "image/png": "[encoded data removed]",
      "text/plain": [
       "<Figure size 864x360 with 2 Axes>"
      ]
     },
     "metadata": {
      "needs_background": "light"
     },
     "output_type": "display_data"
    }
   ],
   "source": [
    "# Execute task d)\n",
    "TaskD(N_CSTR = 8)"
   ]
  },
  {
   "cell_type": "code",
   "execution_count": 15,
   "id": "eaf8e072",
   "metadata": {},
   "outputs": [
    {
     "name": "stdout",
     "output_type": "stream",
     "text": [
      "Ignore first element of the following arrays, which was required since python starts indexing at 0\n",
      "The conversions in the CSTRs are:  [ 0.          1.59655566  3.16762143  4.71360425  6.2349046   7.73191654\n",
      "  9.20502785 10.65462012 12.08106885 13.48474352 14.86600775 16.22521932\n",
      " 17.56273033 18.87888723 20.17403095 21.44849698 22.70261545 23.93671122\n",
      " 25.15110396 26.34610825 27.52203363 28.67918471 29.81786123 30.93835814\n",
      " 32.04096569 33.1259695  34.19365062 35.24428562 36.27814665 37.29550151\n",
      " 38.29661373 39.28174264 40.25114341 41.20506717 42.143761   43.06746806\n",
      " 43.97642762 44.87087514 45.7510423  46.61715711 47.46944391 48.30812348\n",
      " 49.13341306 49.94552644 50.74467397 51.53106267 52.30489623 53.06637511\n",
      " 53.81569656 54.55305467 55.27864045 55.99264185 56.69524382 57.38662836\n",
      " 58.06697455 58.73645865 59.39525405 60.04353142 60.68145869 61.30920108\n",
      " 61.92692123 62.53477912 63.13293223 63.72153549 64.30074137 64.8706999\n",
      " 65.43155873 65.98346314 66.52655608 67.06097825 67.58686807 68.10436176\n",
      " 68.61359338 69.11469483 69.60779592 70.09302438 70.57050589 71.04036414\n",
      " 71.50272085 71.95769577 72.40540677 72.84596981 73.27949902 73.70610669\n",
      " 74.12590333 74.53899769 74.94549676 75.34550585 75.73912858 76.12646689\n",
      " 76.50762114 76.88269004 77.25177076 77.61495891 77.97234855 78.32403227\n",
      " 78.67010116 79.01064486 79.3457516  79.67550817 80.        ] %\n",
      "The residence times in the CSTRs are: [0.         0.10776232 0.10617119 0.10460547 0.10306474 0.10154861\n",
      " 0.10005668 0.09858858 0.09714391 0.09572231 0.09432341 0.09294684\n",
      " 0.09159224 0.09025928 0.08894759 0.08765685 0.08638672 0.08513686\n",
      " 0.08390696 0.08269669 0.08150575 0.08033382 0.0791806  0.0780458\n",
      " 0.07692911 0.07583025 0.07474893 0.07368488 0.07263781 0.07160746\n",
      " 0.07059357 0.06959586 0.06861408 0.06764797 0.06669729 0.06576178\n",
      " 0.06484122 0.06393535 0.06304394 0.06216676 0.06130359 0.0604542\n",
      " 0.05961837 0.05879589 0.05798653 0.0571901  0.05640639 0.05563518\n",
      " 0.05487629 0.05412952 0.05339466 0.05267154 0.05195997 0.05125975\n",
      " 0.05057072 0.04989269 0.04922548 0.04856892 0.04792285 0.04728709\n",
      " 0.04666148 0.04604586 0.04544006 0.04484394 0.04425734 0.0436801\n",
      " 0.04311208 0.04255313 0.0420031  0.04146185 0.04092925 0.04040515\n",
      " 0.03988941 0.03938191 0.03888251 0.03839109 0.03790751 0.03743165\n",
      " 0.03696339 0.0365026  0.03604917 0.03560298 0.03516392 0.03473186\n",
      " 0.0343067  0.03388833 0.03347664 0.03307152 0.03267287 0.03228059\n",
      " 0.03189457 0.03151471 0.03114091 0.03077309 0.03041113 0.03005496\n",
      " 0.02970447 0.02935958 0.02902019 0.02868622 0.02835759] h\n",
      "This requires a total time of 5.80 h\n"
     ]
    },
    {
     "data": {
      "image/png": "[encoded data removed]",
      "text/plain": [
       "<Figure size 864x360 with 2 Axes>"
      ]
     },
     "metadata": {
      "needs_background": "light"
     },
     "output_type": "display_data"
    }
   ],
   "source": [
    "# Execute task d)\n",
    "TaskD(N_CSTR = 100)"
   ]
  }
 ],
 "metadata": {
  "kernelspec": {
   "display_name": "Python 3 (ipykernel)",
   "language": "python",
   "name": "python3"
  },
  "language_info": {
   "codemirror_mode": {
    "name": "ipython",
    "version": 3
   },
   "file_extension": ".py",
   "mimetype": "text/x-python",
   "name": "python",
   "nbconvert_exporter": "python",
   "pygments_lexer": "ipython3",
   "version": "3.9.7"
  }
 },
 "nbformat": 4,
 "nbformat_minor": 5
}
