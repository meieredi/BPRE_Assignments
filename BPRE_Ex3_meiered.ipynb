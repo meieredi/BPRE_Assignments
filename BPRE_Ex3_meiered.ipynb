{
 "cells": [
  {
   "cell_type": "markdown",
   "id": "9a5df037",
   "metadata": {},
   "source": [
    "<table style=\"width:100%;\">\n",
    "    <tr>\n",
    "        <td style=\"width:80%; text-align:left; vertical-align: center;\">\n",
    "            <img src=\"./Header/ETH_Logo.svg\" alt=\"ETH logo\" align=\"left\" vspace=\"4\">\n",
    "        </td>\n",
    "        <td style=\"width:20%; text-align:left; vertical-align: top;\">\n",
    "            Biochemical Engineering Lab<br/>\n",
    "            Prof. Dr. P. Arosio<br/>\n",
    "            <img src=\"./Header/DCHAB_Logo.png\" alt=\"DCHAB logo\" align=\"left\" vspace=\"-50\"\n",
    "             style=\"width:150px; margin: -12px 0px 0px -20px;\">\n",
    "        </td>\n",
    "    </tr>\n",
    "</table>\n",
    "\n",
    "<center> \n",
    "    <h1>Biochemical and Polymer Reaction Engineering: Exercise 3</h1>\n",
    "    <h3>by Eduard Meier</h3>\n",
    "</center>"
   ]
  },
  {
   "cell_type": "markdown",
   "id": "a0c5ecfd",
   "metadata": {},
   "source": [
    "<center> \n",
    "<img src=\"./Header/Header.jpg\" alt=\"Polymers\" style=\"width: 800px;\"/>\n",
    "</center>"
   ]
  },
  {
   "cell_type": "markdown",
   "id": "eb08b350",
   "metadata": {},
   "source": [
    "This Jupyter Notebooks contains a presentation of the applied equations, all code (main script and various functions) used to solve the exercise as well as the resulting plots. It belongs to the course \"Biochemical and Polymer Reaction Engineering\", held by Prof. Arosio in the autumn semester 2022. References to equations inside the lecture script are indicated on the left side of the corresponding equations and refer to the equation number in the lecture script."
   ]
  },
  {
   "cell_type": "markdown",
   "id": "773e64d9",
   "metadata": {},
   "source": [
    "# 1 Equations"
   ]
  },
  {
   "cell_type": "markdown",
   "id": "3456a20a",
   "metadata": {},
   "source": [
    "## 1.1 Part a)"
   ]
  },
  {
   "cell_type": "markdown",
   "id": "3ef9857b",
   "metadata": {},
   "source": [
    "The aggregation rate constants for diffusion-limited cluster aggregation (DLCA) are calculated according to \n",
    "\n",
    "\\begin{equation}\n",
    "    (5.19) \\;\\;\\;\\;\\;\\; \\beta_{ij}^{DLCA} = \\frac{2}{3} \\frac{k_\\mathrm{B}T}{\\eta} \\left( i^{1/d_\\mathrm{f}} + j^{1/d_\\mathrm{f}} \\right) \\left( i^{-1/d_\\mathrm{f}} + j^{-1/d_\\mathrm{f}} \\right)\n",
    "\\end{equation}\n",
    "\n",
    "for a non-dimensional mass of $i,j=1-100$."
   ]
  },
  {
   "cell_type": "markdown",
   "id": "a0b2810e",
   "metadata": {},
   "source": [
    "## 1.2 Part b)"
   ]
  },
  {
   "cell_type": "markdown",
   "id": "b16bcf80",
   "metadata": {},
   "source": [
    "To describe the cluster formation up to a dimensionless mass of $i=100$, the Smoluchowski equation\n",
    "\n",
    "\\begin{equation}\n",
    "    (5.8) \\;\\;\\;\\;\\;\\; \\frac{\\mathrm{d}N_k}{\\mathrm{d}t} = \\frac{1}{2} \\sum_{i=1}^{k-1} \\beta_{i,k-i} N_i N_{k-i} - N_k \\sum_{i=1}^\\infty \\beta_{ik} N_i\n",
    "\\end{equation}\n",
    "\n",
    "is solved numerically, where $N_k$ corresponds to the number concentration of aggregates of size $k$.\n",
    "\n",
    "The total number of clusters (of all sizes) is given by summation (from 1 to $\\infty$ or 100 in our case) at each point in time:\n",
    "\n",
    "\\begin{equation}\n",
    "    (5.9) \\;\\;\\;\\;\\;\\; N_{tot}(t) = \\sum_{i=1}^\\infty N_i (t)\n",
    "\\end{equation}"
   ]
  },
  {
   "cell_type": "markdown",
   "id": "7a67489f",
   "metadata": {},
   "source": [
    "## 1.3 Part c)"
   ]
  },
  {
   "cell_type": "markdown",
   "id": "52818248",
   "metadata": {},
   "source": [
    "The aggregation rate constant for reaction limited cluster aggregation (RLCA) can be found from the respective DLCA rate constant using the Fuchs stability ratio:\n",
    "\n",
    "\\begin{equation}\n",
    "    (5.31) \\;\\;\\;\\;\\;\\; \\beta_{ij}^{RLCA} (W) = \\frac{\\beta_{ij}^{DLCA}}{W}(ij)^\\lambda \\;\\;\\;\\; \\mathrm{with} \\;\\; \\lambda = \\frac{d_f-1}{d_f}\n",
    "\\end{equation}"
   ]
  },
  {
   "cell_type": "markdown",
   "id": "e6102d13",
   "metadata": {},
   "source": [
    "The optimal Fuchs stability ratio, $W_\\mathrm{opt}$, is found via non-linear regression of the system of ODEs presented above, in which the RLCA aggregation rate constant, $\\beta_{ij}^{RLCA}$, is used."
   ]
  },
  {
   "cell_type": "markdown",
   "id": "840ca5ab",
   "metadata": {},
   "source": [
    "## 1.4 Part d)"
   ]
  },
  {
   "cell_type": "markdown",
   "id": "c05f3f3e",
   "metadata": {},
   "source": [
    "The Fuchs stability ratio can be found via numerically integrating the following expression:\n",
    "\n",
    "\\begin{equation}\n",
    "    (5.26) \\;\\;\\;\\;\\;\\; W = 2 a \\int_{2a}^\\infty \\mathrm{exp} \\left( \\frac{V_T}{k_\\mathrm{B}T} \\right) \\frac{\\mathrm{d}r}{r^2}\n",
    "\\end{equation}"
   ]
  },
  {
   "cell_type": "markdown",
   "id": "523a23d8",
   "metadata": {},
   "source": [
    "The total potential, $V_T$, is given by the sum of an attractive term, $V_A$, and a repulsive term, $V_R$, given by\n",
    "\n",
    "\\begin{align}\n",
    "     (\\mathrm{Ex}) \\;\\;\\;\\;\\;\\; V_A &= - \\frac{A_H}{6} \\left[ \\frac{2}{l^2-4} + \\frac{2}{l^2} + \\mathrm{ln}\\left( 1-\\frac{4}{l^2} \\right) \\right] \\\\[3pt]\n",
    "    (\\mathrm{Ex}) \\;\\;\\;\\;\\;\\; V_R &= \\frac{4 \\pi \\epsilon_0 \\epsilon_r a \\psi_0^2}{l} \\mathrm{ln} \\left( 1 + \\mathrm{exp} \\left( - \\kappa \\alpha (l-2) \\right) \\right) \\; .\n",
    "\\end{align}"
   ]
  },
  {
   "cell_type": "markdown",
   "id": "f530505e",
   "metadata": {},
   "source": [
    "Finally, the Debye-Hückel parameter, $\\kappa$, is calculated from the ionic strength, $I$\n",
    "\n",
    "\\begin{align}\n",
    "    (4.19 \\; \\mathrm{ff.}) \\;\\;\\;\\;\\;\\; I &= \\frac{1}{2} \\sum_i c_i z_i^2 \\\\[3pt]\n",
    "    (4.19) \\;\\;\\;\\;\\;\\; \\kappa &= 3.29 \\sqrt{I} \\; [\\mathrm{nm}^{-1}]\n",
    "\\end{align}\n",
    "\n",
    "where $c_i$ and $z_i$ denote the concentration (in mol/L) and valency of ion species $i$, which are given in the assignment (valency for sodium chloride is one). In addition, we have $l = r/a$."
   ]
  },
  {
   "cell_type": "markdown",
   "id": "665592d5",
   "metadata": {},
   "source": [
    "# 2. Plots and Discussion"
   ]
  },
  {
   "cell_type": "markdown",
   "id": "304c4ea9",
   "metadata": {},
   "source": [
    "## Part a)"
   ]
  },
  {
   "cell_type": "markdown",
   "id": "6fed397a",
   "metadata": {},
   "source": [
    "<figure> \n",
    "    <center>\n",
    "    <img src=\"./Plot_BPRE_Ex3_1Crop.pdf\" alt=\"DLCA1\"  style=\"width: 550px;\"/>\n",
    "    <figcaption> Figure 1: Aggregation rate constants for clusters of dimensionless masses between 1 and 100 in the diffusion-limited regime. </figcaption>\n",
    "    </center>\n",
    "</figure>"
   ]
  },
  {
   "cell_type": "markdown",
   "id": "3d8df6a4",
   "metadata": {},
   "source": [
    "\n",
    "The visualization of the functional dependence of the aggregation rate constant in the diffusion-limited regime on the dimensionless masses, $i,j$, shows the expected behaviour, namely that high rates are expected for the aggregation of clusters of very different masses ($\\sim$ sizes), while clusters of similar masses ($\\sim$ sizes) significantly reduced aggregation rates.\n",
    "\n",
    "While large clusters have a large surface area available for collision, their diffusion coefficients are relatively low. On the contrary, small clusters diffuse quickly (large diffusion coefficients), but their surface area is smaller and thus the probability of a collision is smaller. Combining two clusters from both extremes (very large and very small) therefore combines the high surface area with fast diffusion and in consequence leads to high aggregation rate constants."
   ]
  },
  {
   "cell_type": "markdown",
   "id": "129fbf0f",
   "metadata": {},
   "source": [
    "## Part b)"
   ]
  },
  {
   "cell_type": "markdown",
   "id": "a15590bf",
   "metadata": {},
   "source": [
    "<figure> \n",
    "    <center>\n",
    "    <img src=\"./Plot_BPRE_Ex3_2.pdf\" alt=\"DLCA2\"  style=\"width: 500px;\"/>\n",
    "    <figcaption> Figure 2: Total relative number of colloids versus time considering dimensionless masses between 1 and 100 in the diffusion-limited regime. </figcaption>\n",
    "    </center>\n",
    "</figure>"
   ]
  },
  {
   "cell_type": "markdown",
   "id": "28d32c25",
   "metadata": {},
   "source": [
    "\n",
    "The above figure shows the evolution of the total number of particles (of all sizes) with time. It decreases rapidly and within the first few hours, most of particles have aggregated. For shorter timescales, one would observe a decreasing aggregation velocity with time, which can be attributed to the diminished diffusion coefficient of large clusters and thus despite their larger surface area, fewer collision events are observed."
   ]
  },
  {
   "cell_type": "markdown",
   "id": "7b8d2dff",
   "metadata": {},
   "source": [
    "## Part c)"
   ]
  },
  {
   "cell_type": "markdown",
   "id": "3c6bfa70",
   "metadata": {},
   "source": [
    "<figure>\n",
    "    <center>\n",
    "    <img src=\"./Plot_BPRE_Ex3_3-1.pdf\" alt=\"RLCA1\"  style=\"width: 500px;\"/>\n",
    "    <figcaption> Figure 3: Total relative number of colloids versus time considering dimensionless masses between 1 and 100 in the reaction-limited regime. </figcaption>\n",
    "    </center>\n",
    "</figure>"
   ]
  },
  {
   "cell_type": "markdown",
   "id": "6eccfb23",
   "metadata": {},
   "source": [
    "\n",
    "A non-linear fit of the simulated relative colloid numbers to the experimentally observed values was conducted, in which the value of the Fuchs stability ratio was fitted. The optimal value was found to be $W_\\mathrm{opt} = 47'342$, resulting in a reasonable fit. Comparing the RLCA results with the previous simulation results for DLCA, we see that aggregation is significantly slower (more than 10 times) than in the DLCA regime."
   ]
  },
  {
   "cell_type": "markdown",
   "id": "f6f968b9",
   "metadata": {},
   "source": [
    "<figure> \n",
    "    <center>\n",
    "    <img src=\"./Plot_BPRE_Ex3_3-2Crop.pdf\" alt=\"DLCA2\"  style=\"width: 550px;\"/>\n",
    "    <figcaption> Figure 4: Aggregation rate constants for clusters of dimensionless masses between 1 and 100 in the reaction-limited regime. </figcaption>\n",
    "    </center>\n",
    "</figure>"
   ]
  },
  {
   "cell_type": "markdown",
   "id": "c63117ad",
   "metadata": {},
   "source": [
    "The resulting RLCA aggregation rate constants were subsequently calculated with the optimal Fuchs stability ratio and the results are displayed in the figure above. The differences to Figure 1 can be explained as follows: in a reaction limited regime, the penalty larger particles face in terms of their diffusion coefficient does not impact the agglomeration rate. Without the penalty, it follows that the larger the particles are, which collide, the higher the rate constant due to their increased surface area. Consequently, the highest rate constant is observed in the back corner of the plot, which is given by the collision of the largest particles."
   ]
  },
  {
   "cell_type": "markdown",
   "id": "963bbda1",
   "metadata": {},
   "source": [
    "## Part d)"
   ]
  },
  {
   "cell_type": "markdown",
   "id": "59eecb69",
   "metadata": {},
   "source": [
    "\n",
    "Substituting $r$ by $l$ for the numerical integration, making use of $l=r/a$, a Fuchs stability ratio of $W = 130'040$ was calculated, which seems reasonable. However, the obtained Fuchs stability ratio is significantly higher than the experimentally fitted value, which might stem from inaccuracies of the analytical expressions for the (attractive and repulsive) potentials used in the integration. The higher value of the Fuchs stability ratio implies that the rate constants in the diffusion-limited regime are higher than in the reaction-limited regime."
   ]
  },
  {
   "cell_type": "markdown",
   "id": "6c9d6c81",
   "metadata": {},
   "source": [
    "## Part e)"
   ]
  },
  {
   "cell_type": "markdown",
   "id": "1e5854bd",
   "metadata": {},
   "source": [
    "<figure> \n",
    "    <center>\n",
    "    <img src=\"./Plot_BPRE_Ex3_5-1.pdf\" alt=\"RLCA3\"  style=\"width: 500px;\"/>\n",
    "    <figcaption> Figure 8: Particle size distributions after different times considering dimensionless masses between 1 and 100 in the reaction-limited regime. </figcaption>\n",
    "    </center>\n",
    "</figure>"
   ]
  },
  {
   "cell_type": "markdown",
   "id": "4afefc08",
   "metadata": {},
   "source": [
    "\n",
    "The above results were obtained using the experimentally fitted value of the Fuchs stability ratio. It is clearly visible that the used model for simulation (with the restricted maximal non-dimensional mass of 100) cannot be used to simulate aggregation up to very large masses/sizes. Furthermore, at some point in time, the agglomeration will not be in the reaction-limited regime anymore and the few large clusters remaining will be diffusion-limited."
   ]
  },
  {
   "cell_type": "markdown",
   "id": "b29072b0",
   "metadata": {},
   "source": [
    "# Python Code"
   ]
  },
  {
   "cell_type": "markdown",
   "id": "3aef39a2",
   "metadata": {},
   "source": [
    "Import of the relevant libraries."
   ]
  },
  {
   "cell_type": "code",
   "execution_count": 1,
   "id": "fee284de",
   "metadata": {},
   "outputs": [],
   "source": [
    "# Import libraries and other preliminaries\n",
    "\n",
    "import numpy as np                    # Import numerical python library\n",
    "import matplotlib as mpl              # Import python mathematical plotting library\n",
    "import matplotlib.pyplot as plt       # Import python mathematical plotting library\n",
    "import math\n",
    "from mpl_toolkits.mplot3d import Axes3D\n",
    "from scipy.integrate import solve_ivp # Import solver for (system of coupled) ODEs\n",
    "from scipy.optimize import curve_fit  # Import non-linear fitting function\n",
    "from scipy.integrate import quad      # Import numerical integration function\n",
    "from PyPDF2 import PdfWriter, PdfReader, PdfMerger # Import library for editing pdf-files\n",
    "import sys\n",
    "\n",
    "# Use LaTeX font in plots:\n",
    "plt.rcParams.update({\n",
    "    'text.usetex': True,\n",
    "    'font.family': 'serif',\n",
    "    'font.serif': ['Computern Modern Roman'],\n",
    "})\n",
    "\n",
    "from matplotlib import ticker"
   ]
  },
  {
   "cell_type": "markdown",
   "id": "f66fd1c5",
   "metadata": {},
   "source": [
    "Function to crop a pdf on the fly."
   ]
  },
  {
   "cell_type": "code",
   "execution_count": 2,
   "id": "a613013d",
   "metadata": {},
   "outputs": [],
   "source": [
    "def crop_pdf(Name, LeftCrop, RightCrop, BottomCrop, TopCrop):\n",
    "    \"\"\"\n",
    "    Function to crop a pdf with the given name in the current working directory\n",
    "    \"\"\"\n",
    "    reader = PdfReader(Name+'.pdf')\n",
    "    writer = PdfWriter()\n",
    "\n",
    "    for page in reader.pages:\n",
    "        \n",
    "        lower_left_new_x_coordinate = page.cropbox.lower_left[0] + LeftCrop\n",
    "        lower_left_new_y_coordinate = page.cropbox.lower_left[1] + BottomCrop\n",
    "\n",
    "        lower_right_new_x_coordinate = page.cropbox.lower_right[0] - RightCrop\n",
    "        lower_right_new_y_coordinate = page.cropbox.lower_right[1] + BottomCrop\n",
    "        \n",
    "        upper_left_new_x_coordinate = page.cropbox.upper_left[0] + LeftCrop\n",
    "        upper_left_new_y_coordinate = page.cropbox.upper_left[1] - TopCrop\n",
    "\n",
    "        upper_right_new_x_coordinate = page.cropbox.upper_right[0] - RightCrop\n",
    "        upper_right_new_y_coordinate = page.cropbox.upper_right[1] - TopCrop\n",
    "\n",
    "        page.mediabox.lower_right = (lower_right_new_x_coordinate, lower_right_new_y_coordinate)\n",
    "        page.mediabox.lower_left = (lower_left_new_x_coordinate, lower_left_new_y_coordinate)\n",
    "        page.mediabox.upper_right = (upper_right_new_x_coordinate, upper_right_new_y_coordinate)\n",
    "        page.mediabox.upper_left = (upper_left_new_x_coordinate, upper_left_new_y_coordinate)\n",
    "\n",
    "        writer.add_page(page)\n",
    "\n",
    "    with open(Name+'Crop.pdf','wb') as fp:\n",
    "        writer.write(fp) "
   ]
  },
  {
   "cell_type": "markdown",
   "id": "079070c1",
   "metadata": {},
   "source": [
    "## Part a)"
   ]
  },
  {
   "cell_type": "code",
   "execution_count": 3,
   "id": "116e0b2a",
   "metadata": {},
   "outputs": [],
   "source": [
    "def beta(k_B, T, eta, d_f, i, j):\n",
    "\n",
    "    bij = np.zeros((len(i),len(j)))\n",
    "\n",
    "    for idxi, elmnti in enumerate(i): \n",
    "        for idxj, elmntj in enumerate(j):\n",
    "            bij[idxi,idxj] = 2/3 * k_B*T/eta * (elmnti**(1/d_f)+elmntj**(1/d_f))*(elmnti**(-1/d_f)+elmntj**(-1/d_f))\n",
    "    return bij"
   ]
  },
  {
   "cell_type": "code",
   "execution_count": 4,
   "id": "6300e1d1",
   "metadata": {},
   "outputs": [],
   "source": [
    "def beta_DLCA(k_B, T, eta, d_f, i, j):\n",
    "\n",
    "    return 2/3 * k_B*T/eta * (i**(1/d_f)+j**(1/d_f))*(i**(-1/d_f)+j**(-1/d_f))"
   ]
  },
  {
   "cell_type": "code",
   "execution_count": 5,
   "id": "ec4c45f3",
   "metadata": {
    "scrolled": false
   },
   "outputs": [],
   "source": [
    "def TaskA():    \n",
    "    # Define parameters\n",
    "    k_B = 1.380649e-23 # Boltzmann constant [J/K]\n",
    "    T = 298.15         # Room temperature (25 deg C) [K]\n",
    "    eta = 0.89e-3      # Dynamic viscosity [Pa s]\n",
    "    d_f = 2.1          # Fractal dimension [-]\n",
    "\n",
    "    # Define dim.less mass arrays\n",
    "    i = np.linspace(1, 100, 100)\n",
    "    j = np.linspace(1, 100, 100)\n",
    "\n",
    "    # Create meshgrid\n",
    "    I, J = np.meshgrid(i, j)\n",
    "\n",
    "    # Calculate aggregation rate constants\n",
    "    betaij = beta(k_B, T, eta, d_f, i, j)\n",
    "    betaij2 = beta_DLCA(k_B, T, eta, d_f, I, J)\n",
    "\n",
    "    # Set up a figure\n",
    "    fig = plt.figure(figsize=(10,10))\n",
    "\n",
    "    # Set up the axes for the first plot\n",
    "    ax = fig.add_subplot(1, 1, 1, projection='3d')\n",
    "\n",
    "    # Plot the data\n",
    "    ax.plot_wireframe(np.log10(I), np.log10(J), betaij2, color='black')\n",
    "\n",
    "    # Set log tick labels\n",
    "    ax.set_xticks([0, 1, 2])\n",
    "    ax.set_xticklabels([1e0, 1e1, 1e2])\n",
    "    ax.set_yticks([0, 1, 2])\n",
    "    ax.set_yticklabels([1e0, 1e1, 1e2])\n",
    "\n",
    "    # Set x- and y-labels\n",
    "    ax.zaxis.set_rotate_label(False)  # disable automatic rotation\n",
    "    ax.set_xlabel(r'i',rotation=0, fontsize=12)\n",
    "    ax.set_ylabel(r'j',rotation=0, fontsize=12)\n",
    "    ax.set_zlabel(r'$\\beta_{ij} \\; [\\mathrm{m}^3 \\; \\mathrm{s}^{-1}]$',rotation=90, fontsize=12)\n",
    "\n",
    "    ax.set_title('Aggregation Rate Constant \\n DLCA',y=0.94, pad=-14)\n",
    "\n",
    "    ax.view_init(10, 240)\n",
    "\n",
    "    formatter = ticker.ScalarFormatter(useMathText=True)\n",
    "    formatter.set_scientific(True) \n",
    "    formatter.set_powerlimits((-1,1)) \n",
    "    ax.zaxis.set_major_formatter(formatter) \n",
    "\n",
    "    # Change orientation of offset text (10^-17)\n",
    "    ax.zaxis.get_offset_text().set_visible(False)\n",
    "    exponent = int('{:.2e}'.format(np.min(betaij2)).split('e')[1])\n",
    "    ax.text(ax.get_xlim()[1]*(-0.2), ax.get_ylim()[1], ax.get_zlim()[1],\n",
    "            '$\\\\times\\\\mathdefault{10^{%d}}\\\\mathdefault{}$' % exponent)\n",
    "\n",
    "    # Save plot\n",
    "    filename = 'Plot_BPRE_Ex3_1'\n",
    "    plt.savefig(filename+'.pdf', bbox_inches='tight')\n",
    "\n",
    "    # Crop plot and save again\n",
    "    crop_pdf(filename, 0, 0, 50, 50)"
   ]
  },
  {
   "cell_type": "code",
   "execution_count": 6,
   "id": "d2bd489b",
   "metadata": {},
   "outputs": [
    {
     "data": {
      "image/png": "[encoded data removed]",
      "text/plain": [
       "<Figure size 720x720 with 1 Axes>"
      ]
     },
     "metadata": {
      "needs_background": "light"
     },
     "output_type": "display_data"
    }
   ],
   "source": [
    "# Execute task a)\n",
    "TaskA()"
   ]
  },
  {
   "cell_type": "markdown",
   "id": "49a6a7b8",
   "metadata": {},
   "source": [
    "## Part b)"
   ]
  },
  {
   "cell_type": "code",
   "execution_count": 7,
   "id": "eaff0191",
   "metadata": {},
   "outputs": [],
   "source": [
    "def odesystem(t, y, MinMass, MaxMass, kNumber, betaik):\n",
    "    \"\"\"\n",
    "    Return a right-hand side (RHS) vector of the system of ODEs to be solved.\n",
    "    ODEs are written in the following form: dy/dt = f(y, t) = RHS\n",
    "    The following system of coupled ODEs is considered:\n",
    "    dy/dt = dNk/dt = ... for all k's\n",
    "    and thus y = [N1, N2, N3, ..., Nk]\n",
    "    \"\"\"\n",
    "    \n",
    "    # Rename array of variables\n",
    "    N = y\n",
    "    \n",
    "    # Initialize empty arrays\n",
    "    dNk_dt = np.zeros(kNumber)\n",
    "    sum1 = np.zeros(kNumber)\n",
    "    sum2 = np.zeros(kNumber)\n",
    "    prod1 = np.zeros(kNumber)\n",
    "    prod2 = np.zeros(kNumber)\n",
    "    odesys = np.zeros(kNumber)\n",
    "    \n",
    "    # Compute the terms in the Smoluchowski differential equation\n",
    "    # Remark: the value for N1 is stored at index 0 of the N[k] vector etc.\n",
    "    \n",
    "    for k in range(kNumber):  # Range starts at 0 and ends at kNumber - 1 (total = kNumber)  \n",
    "        \n",
    "        # First sum\n",
    "        for i in range(k):  # Range starts at 0 and ends at k - 1  \n",
    "            \n",
    "            sum1[k] += betaik[i,k-i-1]*N[i]*N[k-i-1] \n",
    "            # Remark: in terms where the difference of the indices is computed, an\n",
    "            #         aditional subtraction is required as the subtracted index i starts at 0\n",
    "            #         instead of 1 and thus a shift by 1 unit has to be added!\n",
    "\n",
    "            \n",
    "        # Second sum\n",
    "        for i in range(kNumber):\n",
    "            \n",
    "            sum2[k] += betaik[i,k]*N[i]\n",
    "            \n",
    "        # First product\n",
    "        prod1[k] = 1/2 * sum1[k]\n",
    "            \n",
    "        # Second product\n",
    "        prod2[k] = N[k] * sum2[k]\n",
    "            \n",
    "    # Compute complete system of ODEs\n",
    "    dNk_dt = prod1 - prod2  \n",
    "        \n",
    "    return dNk_dt"
   ]
  },
  {
   "cell_type": "code",
   "execution_count": 8,
   "id": "bf209d22",
   "metadata": {},
   "outputs": [],
   "source": [
    "def solve_ode_DLCA(Param):\n",
    "    \"\"\"\n",
    "    Solve the system of coupled ODEs\n",
    "    \"\"\"\n",
    "    global k_B, T, eta, d_f\n",
    "    \n",
    "    # Read-out parameters and initial conditions\n",
    "    MinMass = Param[0]\n",
    "    MaxMass = Param[1]\n",
    "    kNumber = Param[2]\n",
    "    tMax = Param[3]\n",
    "    tStep = Param[4]\n",
    "    N_0 = Param[5]\n",
    "    \n",
    "    # Define dim.less mass arrays\n",
    "    i = np.linspace(MinMass, MaxMass, kNumber)\n",
    "    k = np.linspace(MinMass, MaxMass, kNumber)\n",
    "\n",
    "    # Create meshgrid\n",
    "    I, K = np.meshgrid(i, k)\n",
    "\n",
    "    # Calculate aggregation rate constants\n",
    "    betaik = beta_DLCA(k_B, T, eta, d_f, I, K)\n",
    "   \n",
    "    # Define initial condition vector\n",
    "    y0 = N_0\n",
    "    \n",
    "    # Define time limits\n",
    "    tlimits = [0, tMax]\n",
    "    trange = np.arange(0, tMax+tStep, tStep)\n",
    "    \n",
    "    # Define additional ODE parameters\n",
    "    Param_ODE = [MinMass, MaxMass, kNumber, betaik]\n",
    "    \n",
    "    # Solve system of ODEs (use Runge-Kutta 4-5th order for numerical integration)\n",
    "    Sol = solve_ivp(odesystem, tlimits, y0, args=Param_ODE, method='RK45', t_eval=trange)\n",
    "    t = Sol.t\n",
    "    Nk = Sol.y\n",
    "    \n",
    "    # Calculate sum for each time\n",
    "    N_tot = np.zeros(len(t))\n",
    "    N_tot = np.sum(Nk, axis=0)\n",
    "                         \n",
    "    # Calculate relative number\n",
    "    N_rel = np.zeros(len(t))\n",
    "    N_rel = N_tot / N1_0\n",
    "    \n",
    "    return N_rel, t"
   ]
  },
  {
   "cell_type": "code",
   "execution_count": 9,
   "id": "0ff59e15",
   "metadata": {},
   "outputs": [],
   "source": [
    "def TaskB():\n",
    "    \"\"\"\n",
    "    Solve and plot the system of ODEs for DLCA regime\n",
    "    \"\"\"\n",
    "    # Define parameters\n",
    "    global k_B, T, eta, d_f\n",
    "    k_B = 1.380649e-23 # Boltzmann constant [J/K]\n",
    "    T = 298.15         # Room temperature (25 deg C) [K]\n",
    "    eta = 0.89e-3      # Dynamic viscosity [Pa s]\n",
    "    d_f = 2.1          # Fractal dimension [-]\n",
    "\n",
    "    # Minimal and maximal considered mass\n",
    "    MinMass = 1        # Minimal dim.-less mass [-]\n",
    "    MaxMass = 100      # Maximal dim.-less mass [-]\n",
    "    \n",
    "    # Calculate total number of considered non-dim. masses (only considering integer steps)\n",
    "    kNumber = MaxMass-MinMass+1\n",
    "    \n",
    "    # Maximal time for integration\n",
    "    tMax = 3*60         # Maximal time [s]\n",
    "    tStep = 0.01         # Time step size [s]\n",
    "    \n",
    "    # Initial condition\n",
    "    global N1_0\n",
    "    N1_0 = 1.4e17           # Initial number of primary particles (i.e. mass/size = 1) [m^-3]\n",
    "    N_0 = np.zeros(kNumber) # Array of inital numbers of all sizes\n",
    "    N_0[0] = N1_0           # Add size of primary particles\n",
    "\n",
    "    # Parameter array\n",
    "    Param = [MinMass, MaxMass, kNumber, tMax, tStep, N_0]\n",
    "    \n",
    "    # Create and solve system of ODEs\n",
    "    N_rel, t = solve_ode_DLCA(Param)\n",
    "    \n",
    "    # Plot figure\n",
    "    fig, axs = plt.subplots(nrows=1, ncols=1, figsize = (6,5)) # Create figure with one plot\n",
    "    plot = axs.plot(t/60, N_rel, color='black')      # Create plot of N_tot [m^-3] vs. t [s]\n",
    "    axs.set_xlabel('Time, $t$ [min]')   # Add x-axis label to plot\n",
    "    axs.set_ylabel(r'Relative Total Number of Colloids, $N_{\\mathrm{tot}}/N_p^0$ [-]')  # Add y-axis label to plot\n",
    "\n",
    "    axs.set_title('DLCA',y=1.1, pad=-14)\n",
    "    \n",
    "    # Save plot\n",
    "    filename = 'Plot_BPRE_Ex3_2'\n",
    "    plt.savefig(filename+'.pdf', bbox_inches='tight')  "
   ]
  },
  {
   "cell_type": "code",
   "execution_count": 10,
   "id": "fbb50480",
   "metadata": {},
   "outputs": [],
   "source": [
    "# Execute task b)\n",
    "#TaskB()"
   ]
  },
  {
   "cell_type": "markdown",
   "id": "99119e87",
   "metadata": {},
   "source": [
    "## Part c)"
   ]
  },
  {
   "cell_type": "code",
   "execution_count": 11,
   "id": "d3705dfb",
   "metadata": {},
   "outputs": [],
   "source": [
    "def beta_RLCA(beta_DLCA, W, i, j, lamb):\n",
    "    return beta_DLCA/W * (i*j)**lamb"
   ]
  },
  {
   "cell_type": "code",
   "execution_count": 12,
   "id": "64926a23",
   "metadata": {},
   "outputs": [],
   "source": [
    "def solve_ode_RLCA(Param, W):\n",
    "    \"\"\"\n",
    "    Solve the system of coupled ODEs for RLCA regime\n",
    "    \"\"\"\n",
    "    global k_B, T, eta, d_f, lamb\n",
    "    \n",
    "    # Read-out parameters and initial conditions\n",
    "    MinMass = Param[0]\n",
    "    MaxMass = Param[1]\n",
    "    kNumber = Param[2]\n",
    "    tMax = Param[3]\n",
    "    tStep = Param[4]\n",
    "    N_0 = Param[5]\n",
    "    \n",
    "    # Define dim.less mass arrays\n",
    "    i = np.linspace(MinMass, MaxMass, kNumber)\n",
    "    k = np.linspace(MinMass, MaxMass, kNumber)\n",
    "\n",
    "    # Create meshgrid\n",
    "    I, K = np.meshgrid(i, k)\n",
    "\n",
    "    # Calculate aggregation rate constants\n",
    "    betaik0 = beta_DLCA(k_B, T, eta, d_f, I, K)\n",
    "    betaik = beta_RLCA(betaik0, W, I, K, lamb)\n",
    "   \n",
    "    # Define initial condition vector\n",
    "    y0 = N_0\n",
    "    \n",
    "    # Define time limits\n",
    "    tlimits = [0, tMax]\n",
    "    trange = np.arange(0, tMax+1, tStep)\n",
    "    \n",
    "    # Define additional ODE parameters\n",
    "    Param_ODE = [MinMass, MaxMass, kNumber, betaik]\n",
    "    \n",
    "    # Solve system of ODEs (use Runge-Kutta 4-5th order for numerical integration)\n",
    "    Sol= solve_ivp(odesystem, tlimits, y0, args=Param_ODE, method='RK45', t_eval=trange)\n",
    "    t = Sol.t\n",
    "    Nk = Sol.y\n",
    "    \n",
    "    # Calculate sum for each time\n",
    "    N_tot = np.zeros(len(t))\n",
    "    N_tot = np.sum(Nk, axis=0)\n",
    "                         \n",
    "    # Calculate relative number\n",
    "    N_rel = np.zeros(len(t))\n",
    "    N_rel = N_tot / N1_0\n",
    "    \n",
    "    return N_rel, t"
   ]
  },
  {
   "cell_type": "code",
   "execution_count": 13,
   "id": "3479efbb",
   "metadata": {},
   "outputs": [],
   "source": [
    "def TaskC():  \n",
    "    \n",
    "    #### Part 1 #### Non-linear least-squares regression to find optimal W\n",
    "    \n",
    "    # Define parameters\n",
    "    global k_B, T, eta, d_f, lamb, MinMass, MaxMass, kNumber, tMax, tStep, N_0, N1_0\n",
    "    k_B = 1.380649e-23 # Boltzmann constant [J/K]\n",
    "    T = 298.15         # Room temperature (25 deg C) [K]\n",
    "    eta = 0.89e-3      # Dynamic viscosity [Pa s]\n",
    "    d_f = 2.1          # Fractal dimension [-]\n",
    "    W0 = 0.5e5         # Guess for the Fuchs stability ratio\n",
    "    \n",
    "    # Calculate lambda [-]\n",
    "    lamb = (d_f-1)/d_f\n",
    "\n",
    "    # Minimal and maximal considered mass\n",
    "    MinMass = 1        # Minimal dim.-less mass [-]\n",
    "    MaxMass = 100      # Maximal dim.-less mass [-]\n",
    "    \n",
    "    # Calculate total number of considered non-dim. masses (only considering integer steps)\n",
    "    kNumber = MaxMass-MinMass+1\n",
    "    \n",
    "    # Maximal time for integration\n",
    "    tMax = 24*3600      # Maximal time [s]\n",
    "    tStep = 2*3600      # Time step [s]\n",
    "    \n",
    "    # Initial condition\n",
    "    N1_0 = 1.4e17           # Initial number of primary particles (i.e. mass/size = 1) [m^-3]\n",
    "    N_0 = np.zeros(kNumber) # Array of inital numbers of all sizes\n",
    "    N_0[0] = N1_0           # Add size of primary particles\n",
    "\n",
    "    # Parameter array\n",
    "    Param = [MinMass, MaxMass, kNumber, tMax, tStep, N_0]\n",
    "    \n",
    "    # Experimental data\n",
    "    N_rel_exp = [1.00, 0.89, 0.79, 0.67, 0.59, 0.51, 0.46, 0.43, 0.35, 0.32, 0.28, 0.27, 0.21]\n",
    "    t_exp = np.arange(0, 24+1, 2)   # Add 1 since np.arange excludes stop value\n",
    "    \n",
    "    # Define function used for regression\n",
    "    def model_nls(t_exp, W):\n",
    "        \"\"\"\n",
    "        Function required for the scipy.optimization.curve_fit function for non-linear regression\n",
    "        \"\"\"\n",
    "        N_rel, t = solve_ode_RLCA(Param, W)\n",
    "        return N_rel\n",
    "    \n",
    "    # Non-linear least squares regression\n",
    "    Wopt, Wcov = curve_fit(model_nls, t_exp, N_rel_exp, W0)\n",
    "\n",
    "    print('The optimal W was found to be:', Wopt)\n",
    "    \n",
    "    # Create and solve system of ODEs\n",
    "    N_rel, t = solve_ode_RLCA(Param, Wopt)\n",
    "                         \n",
    "    # Plot figure\n",
    "    fig, axs = plt.subplots(nrows=1, ncols=1, figsize = (6,5))  # Create figure with one plot\n",
    "    plot = axs.plot(t/3600, N_rel, color='black', label='Non-linear Fit')               # Create plot of N_tot [m^-3] vs. t [s]\n",
    "    expplot = axs.scatter(t_exp, N_rel_exp, color='black', label='Experimental Data')      # Create plot of N_tot [m^-3] vs. t [s]\n",
    "    axs.set_xlabel('Time, $t$ [h]')   # Add x-axis label to plot\n",
    "    axs.set_ylabel(r'Relative Total Number of Colloids, $N_{\\mathrm{tot}}/N_p^0$ [-]')  # Add y-axis label to plot\n",
    "    axs.set_ylim([0, 1])\n",
    "    \n",
    "    axs.set_title('RLCA',y=1.1, pad=-14)\n",
    "    axs.legend()\n",
    "    \n",
    "    # Save plot\n",
    "    filename = 'Plot_BPRE_Ex3_3-1'\n",
    "    plt.savefig(filename+'.pdf', bbox_inches='tight')  \n",
    "    \n",
    "    \n",
    "    #### Part 2 #### Plotting of the RLCA aggregation rate constant\n",
    "\n",
    "    # Define dim.less mass arrays\n",
    "    i = np.linspace(1, 100, 100)\n",
    "    j = np.linspace(1, 100, 100)\n",
    "\n",
    "    # Create meshgrid\n",
    "    I, J = np.meshgrid(i, j)\n",
    "\n",
    "    # Calculate aggregation rate constants\n",
    "    betaij_DLCA = beta_DLCA(k_B, T, eta, d_f, I, J)\n",
    "    \n",
    "    betaij_RLCA = beta_RLCA(betaij_DLCA, Wopt, I, J, lamb)\n",
    "\n",
    "    # Set up a figure\n",
    "    fig = plt.figure(figsize=(10,10))\n",
    "\n",
    "    # Set up the axes for the first plot\n",
    "    ax = fig.add_subplot(1, 1, 1, projection='3d')\n",
    "\n",
    "    # Plot the data\n",
    "    ax.plot_wireframe(np.log10(I), np.log10(J), betaij_RLCA, color='black')\n",
    "\n",
    "    # Set log tick labels\n",
    "    ax.set_xticks([0, 1, 2])\n",
    "    ax.set_xticklabels([1e0, 1e1, 1e2])\n",
    "    ax.set_yticks([0, 1, 2])\n",
    "    ax.set_yticklabels([1e0, 1e1, 1e2])\n",
    "\n",
    "    # Set x- and y-labels\n",
    "    ax.zaxis.set_rotate_label(False)  # disable automatic rotation\n",
    "    ax.set_xlabel(r'i',rotation=0, fontsize=12)\n",
    "    ax.set_ylabel(r'j',rotation=0, fontsize=12)\n",
    "    ax.set_zlabel(r'$\\beta_{ij} \\; [\\mathrm{m}^3 \\; \\mathrm{s}^{-1}]$',rotation=90, fontsize=12)\n",
    "\n",
    "    ax.set_title('Aggregation Rate Constant \\n RLCA',y=0.94, pad=-14)\n",
    "\n",
    "    ax.view_init(10, 240)\n",
    "\n",
    "    formatter = ticker.ScalarFormatter(useMathText=True)\n",
    "    formatter.set_scientific(True) \n",
    "    formatter.set_powerlimits((-1,1)) \n",
    "    ax.zaxis.set_major_formatter(formatter) \n",
    "\n",
    "    # Change orientation of offset text (10^-17)\n",
    "    ax.zaxis.get_offset_text().set_visible(False)\n",
    "    exponent = int('{:.2e}'.format(np.min(betaij_RLCA)).split('e')[1])\n",
    "    ax.text(ax.get_xlim()[1]*(-0.2), ax.get_ylim()[1], ax.get_zlim()[1],\n",
    "            '$\\\\times\\\\mathdefault{10^{%d}}\\\\mathdefault{}$' % exponent)\n",
    "\n",
    "    # Save plot\n",
    "    filename = 'Plot_BPRE_Ex3_3-2'\n",
    "    plt.savefig(filename+'.pdf', bbox_inches='tight')\n",
    "\n",
    "    # Crop plot and save again\n",
    "    crop_pdf(filename, 0, 0, 50, 50)\n"
   ]
  },
  {
   "cell_type": "code",
   "execution_count": 14,
   "id": "4a514d06",
   "metadata": {},
   "outputs": [],
   "source": [
    "# Execute task c)\n",
    "#TaskC()"
   ]
  },
  {
   "cell_type": "markdown",
   "id": "47bb31bc",
   "metadata": {},
   "source": [
    "## Part d)"
   ]
  },
  {
   "cell_type": "code",
   "execution_count": 15,
   "id": "34f6c431",
   "metadata": {},
   "outputs": [],
   "source": [
    "def VA(l, A_H):\n",
    "    return - A_H/6 * np.add(np.add(2/(np.power(l,2)-4), 2/np.power(l,2)), np.log(1-4/np.power(l,2)))"
   ]
  },
  {
   "cell_type": "code",
   "execution_count": 16,
   "id": "42da4700",
   "metadata": {},
   "outputs": [],
   "source": [
    "def VR(l, a, eps_0, eps_r, psi_0, kappa):\n",
    "    return 4*np.pi*eps_0*eps_r*a*psi_0**2/l * np.log(1+np.exp(-kappa*a*(l-2)))"
   ]
  },
  {
   "cell_type": "code",
   "execution_count": 17,
   "id": "7d918394",
   "metadata": {},
   "outputs": [],
   "source": [
    "def VT(l, a, A_H, eps_0, eps_r, psi_0, kappa):\n",
    "    V_A = VA(l, A_H)\n",
    "    V_R = VR(l, a, eps_0, eps_r, psi_0, kappa)\n",
    "    return V_A+V_R"
   ]
  },
  {
   "cell_type": "code",
   "execution_count": 18,
   "id": "09404864",
   "metadata": {},
   "outputs": [],
   "source": [
    "def Ion(c_i, z_i):\n",
    "    return 1/2 * np.sum(c_i * np.power(z_i,2))"
   ]
  },
  {
   "cell_type": "code",
   "execution_count": 19,
   "id": "98e1b137",
   "metadata": {},
   "outputs": [],
   "source": [
    "def kap(I):\n",
    "    return 3.29 * np.sqrt(I) * 1e9"
   ]
  },
  {
   "cell_type": "code",
   "execution_count": 20,
   "id": "91159013",
   "metadata": {},
   "outputs": [],
   "source": [
    "def W_Integrand(l, Param):\n",
    "    k_B, T, A_H, eps_0, eps_r, a, psi_0, kappa = Param\n",
    "    return np.exp( VT(l, a, A_H, eps_0, eps_r, psi_0, kappa) / (k_B*T) ) * 1/(a*np.power(l,2))"
   ]
  },
  {
   "cell_type": "code",
   "execution_count": 21,
   "id": "c06cd2d6",
   "metadata": {},
   "outputs": [],
   "source": [
    "def W(Integral, a):\n",
    "    return 2*a*Integral"
   ]
  },
  {
   "cell_type": "code",
   "execution_count": 22,
   "id": "6955925b",
   "metadata": {},
   "outputs": [],
   "source": [
    "def TaskD():\n",
    "    # Define parameters\n",
    "    k_B = 1.380649e-23      # Boltzmann constant [J/K]\n",
    "    T = 25+273.15           # Temperature [K]\n",
    "    A_H = 1.5e-20           # Hamacker constant [J]\n",
    "    eps_0 = 8.85e-12        # Dielectric constant [F/m]\n",
    "    eps_r = 80.1            # Some additional electric factor [-]\n",
    "    a = 100e-9              # Radius of primary particle [m]\n",
    "    psi_0 = 25e-3           # Potential [V]\n",
    "    d_f = 2.1               # Fractal dimension [-]\n",
    "    c_i = np.ones(2)*7.5e-3 # Concentrations (NaCl) [mol/L]\n",
    "    z_i = np.ones(2)        # Valencies (NaCl) [-]\n",
    "    \n",
    "    # Define evaluated limits for l (= r/a hence the interparticle distance over the radius of the primary particle)\n",
    "    lmin = 2\n",
    "    lmax = 2.2\n",
    "    lnum = 1000000\n",
    "             \n",
    "    # Calculate ionic strength and kappa\n",
    "    I = Ion(c_i, z_i)\n",
    "    kappa = kap(I)\n",
    "    \n",
    "    # Define parameter array\n",
    "    global Param\n",
    "    Param = [k_B, T, A_H, eps_0, eps_r, a, psi_0, kappa]\n",
    "\n",
    "    # Numerically solve integrand for Fuchs stability ratio\n",
    "    Integral, Err = quad(W_Integrand, lmin, np.inf, args=Param)\n",
    "            \n",
    "    # Calculate Fuchs stability ratio\n",
    "    Wcalc = W(Integral, a)\n",
    "    \n",
    "    print('The value found for the Fuchs stability ratio is:', Wcalc)\n",
    "                 \n",
    "    # Create plots to check potentials and integrand\n",
    "    lrange = np.linspace(lmin, lmax, lnum)\n",
    "    V_A = VA(lrange, A_H)\n",
    "    V_R = VR(lrange, a, eps_0, eps_r, psi_0, kappa)\n",
    "    V_T = VT(lrange, a, A_H, eps_0, eps_r, psi_0, kappa)\n",
    "    Integrand = W_Integrand(lrange, Param)\n",
    "    \n",
    "    # Plot potentials\n",
    "    fig, axs = plt.subplots(nrows=1, ncols=3, figsize = (18,5))  # Create figure with one plot\n",
    "    plot1 = axs[0].plot(lrange, V_A, 'b')\n",
    "    plot2 = axs[1].plot(lrange, V_R, 'r')\n",
    "    plot3 = axs[2].plot(lrange, V_T, 'r')\n",
    "    \n",
    "    axs[0].set_xlabel(r'Relative Interparticle Separation, $l$ [-]')\n",
    "    axs[0].set_ylabel(r'Attractive Potential, $V_A$ [J]')\n",
    "    \n",
    "    axs[1].set_xlabel(r'Relative Interparticle Separation, $l$ [-]')\n",
    "    axs[1].set_ylabel(r'Repulsive Potential, $V_R$ [J]')\n",
    "    \n",
    "    axs[1].set_xlabel(r'Relative Interparticle Separation, $l$ [-]')\n",
    "    axs[1].set_ylabel(r'Total Potential, $V_T$ [J]')\n",
    "    \n",
    "    # Save plot\n",
    "    filename = 'Plot_BPRE_Ex3_4-1'\n",
    "    plt.savefig(filename+'.pdf', bbox_inches='tight')\n",
    "\n",
    "    # Plot integrand\n",
    "    fig, axs = plt.subplots(nrows=1, ncols=1, figsize = (6,5))  # Create figure with one plot\n",
    "    plot1 = axs.plot(lrange, Integrand, 'black')\n",
    "    \n",
    "    axs.set_xlabel(r'Relative Interparticle Separation, $l$ [-]')\n",
    "    axs.set_ylabel(r'Integrand, $ \\mathrm{exp} \\left( \\frac{V_T}{k_\\mathrm{B}T} \\right) \\frac{1}{r^2}$ [m$^{-2}$]')\n",
    "\n",
    "    # Save plot\n",
    "    filename = 'Plot_BPRE_Ex3_4-2'\n",
    "    plt.savefig(filename+'.pdf', bbox_inches='tight')"
   ]
  },
  {
   "cell_type": "code",
   "execution_count": 23,
   "id": "a74c499d",
   "metadata": {},
   "outputs": [
    {
     "name": "stdout",
     "output_type": "stream",
     "text": [
      "The value found for the Fuchs stability ratio is: 130039.539272088\n"
     ]
    },
    {
     "name": "stderr",
     "output_type": "stream",
     "text": [
      "/var/folders/b3/hlft3w2x583166xmfn5vcnpr0000gn/T/ipykernel_10028/884504962.py:2: RuntimeWarning: divide by zero encountered in true_divide\n",
      "  return - A_H/6 * np.add(np.add(2/(np.power(l,2)-4), 2/np.power(l,2)), np.log(1-4/np.power(l,2)))\n",
      "/var/folders/b3/hlft3w2x583166xmfn5vcnpr0000gn/T/ipykernel_10028/884504962.py:2: RuntimeWarning: divide by zero encountered in log\n",
      "  return - A_H/6 * np.add(np.add(2/(np.power(l,2)-4), 2/np.power(l,2)), np.log(1-4/np.power(l,2)))\n",
      "/var/folders/b3/hlft3w2x583166xmfn5vcnpr0000gn/T/ipykernel_10028/884504962.py:2: RuntimeWarning: invalid value encountered in add\n",
      "  return - A_H/6 * np.add(np.add(2/(np.power(l,2)-4), 2/np.power(l,2)), np.log(1-4/np.power(l,2)))\n"
     ]
    },
    {
     "data": {
      "image/png": "[encoded data removed]",
      "text/plain": [
       "<Figure size 1296x360 with 3 Axes>"
      ]
     },
     "metadata": {
      "needs_background": "light"
     },
     "output_type": "display_data"
    },
    {
     "data": {
      "image/png": "[encoded data removed]",
      "text/plain": [
       "<Figure size 432x360 with 1 Axes>"
      ]
     },
     "metadata": {
      "needs_background": "light"
     },
     "output_type": "display_data"
    }
   ],
   "source": [
    "# Execute task d)\n",
    "TaskD()"
   ]
  },
  {
   "cell_type": "markdown",
   "id": "b31be5e1",
   "metadata": {},
   "source": [
    "## Part e)"
   ]
  },
  {
   "cell_type": "code",
   "execution_count": 24,
   "id": "ef2e0ede",
   "metadata": {},
   "outputs": [],
   "source": [
    "def solve_ode_RLCA_dist(Param, W):\n",
    "    \"\"\"\n",
    "    Solve the system of coupled ODEs for RLCA regime\n",
    "    \"\"\"\n",
    "    global k_B, T, eta, d_f, lamb\n",
    "    \n",
    "    # Read-out parameters and initial conditions\n",
    "    MinMass = Param[0]\n",
    "    MaxMass = Param[1]\n",
    "    kNumber = Param[2]\n",
    "    tMax = Param[3]\n",
    "    tStep = Param[4]\n",
    "    N_0 = Param[5]\n",
    "    \n",
    "    # Define dim.less mass arrays\n",
    "    i = np.linspace(MinMass, MaxMass, kNumber)\n",
    "    k = np.linspace(MinMass, MaxMass, kNumber)\n",
    "\n",
    "    # Create meshgrid\n",
    "    I, K = np.meshgrid(i, k)\n",
    "\n",
    "    # Calculate aggregation rate constants\n",
    "    betaik0 = beta_DLCA(k_B, T, eta, d_f, I, K)\n",
    "    betaik = beta_RLCA(betaik0, W, I, K, lamb)\n",
    "   \n",
    "    # Define initial condition vector\n",
    "    y0 = N_0\n",
    "    \n",
    "    # Define time limits\n",
    "    tlimits = [0, tMax]\n",
    "    trange = np.arange(0, tMax+1, tStep)\n",
    "    \n",
    "    # Define additional ODE parameters\n",
    "    Param_ODE = [MinMass, MaxMass, kNumber, betaik]\n",
    "    \n",
    "    # Solve system of ODEs (use Runge-Kutta 4-5th order for numerical integration)\n",
    "    Sol= solve_ivp(odesystem, tlimits, y0, args=Param_ODE, method='RK45', t_eval=trange)\n",
    "    t = Sol.t\n",
    "    Nk = Sol.y\n",
    "    \n",
    "    return Nk, t, i"
   ]
  },
  {
   "cell_type": "code",
   "execution_count": 25,
   "id": "52eec211",
   "metadata": {},
   "outputs": [],
   "source": [
    "def TaskE():  \n",
    "        \n",
    "    # Define parameters\n",
    "    global k_B, T, eta, d_f, lamb, MinMass, MaxMass, kNumber, tMax, tStep, N_0, N1_0\n",
    "    k_B = 1.380649e-23 # Boltzmann constant [J/K]\n",
    "    T = 298.15         # Room temperature (25 deg C) [K]\n",
    "    eta = 0.89e-3      # Dynamic viscosity [Pa s]\n",
    "    d_f = 2.1          # Fractal dimension [-]\n",
    "    Wopt = 0.4734e5    # Optimal value for the Fuchs stability ratio\n",
    "    \n",
    "    # Calculate lambda [-]\n",
    "    lamb = (d_f-1)/d_f\n",
    "\n",
    "    # Minimal and maximal considered mass\n",
    "    MinMass = 1        # Minimal dim.-less mass [-]\n",
    "    MaxMass = 100      # Maximal dim.-less mass [-]\n",
    "    \n",
    "    # Calculate total number of considered non-dim. masses (only considering integer steps)\n",
    "    kNumber = MaxMass-MinMass+1\n",
    "    \n",
    "    # Maximal time for integration\n",
    "    tMax = 8*3600       # Maximal time [s]\n",
    "    tStep = 1*3600      # Time step [s]\n",
    "    \n",
    "    # Initial condition\n",
    "    N1_0 = 1.4e17           # Initial number of primary particles (i.e. mass/size = 1) [m^-3]\n",
    "    N_0 = np.zeros(kNumber) # Array of inital numbers of all sizes\n",
    "    N_0[0] = N1_0           # Add size of primary particles\n",
    "\n",
    "    # Parameter array\n",
    "    Param = [MinMass, MaxMass, kNumber, tMax, tStep, N_0]\n",
    "    \n",
    "  \n",
    "    # Create and solve system of ODEs\n",
    "    Nk, t, i = solve_ode_RLCA_dist(Param, Wopt)\n",
    "\n",
    "    # Extract distribution at different times\n",
    "    Nk_1h = Nk[:,1]\n",
    "    Nk_4h = Nk[:,4]\n",
    "    Nk_8h = Nk[:,8]\n",
    "    \n",
    "    # Plot integrand\n",
    "    fig, axs = plt.subplots(nrows=1, ncols=1, figsize = (6,5))  # Create figure with one plot\n",
    "    plot1 = axs.loglog(i, Nk_1h, 'red', label='1 h')\n",
    "    plot2 = axs.loglog(i, Nk_4h, 'blue', label='4 h')\n",
    "    plot3 = axs.loglog(i, Nk_8h, 'black', label='8 h')\n",
    "\n",
    "    \n",
    "    axs.set_xlabel(r'Dimensionless Mass, $i$ [-]')\n",
    "    axs.set_ylabel(r'Number Density, $N_i$ [m$^{-3}$]')\n",
    "    axs.set_ylim([1e0, 1e20])\n",
    "    \n",
    "    axs.set_title('RLCA: Particle Size Distribution',y=1.1, pad=-14)\n",
    "    axs.legend()\n",
    "    \n",
    "    # Save plot\n",
    "    filename = 'Plot_BPRE_Ex3_5-1'\n",
    "    plt.savefig(filename+'.pdf', bbox_inches='tight')                         \n"
   ]
  },
  {
   "cell_type": "code",
   "execution_count": 26,
   "id": "29d944b3",
   "metadata": {},
   "outputs": [
    {
     "data": {
      "image/png": "[encoded data removed]",
      "text/plain": [
       "<Figure size 432x360 with 1 Axes>"
      ]
     },
     "metadata": {
      "needs_background": "light"
     },
     "output_type": "display_data"
    }
   ],
   "source": [
    "# Execute task e)\n",
    "TaskE()"
   ]
  }
 ],
 "metadata": {
  "kernelspec": {
   "display_name": "Python 3 (ipykernel)",
   "language": "python",
   "name": "python3"
  },
  "language_info": {
   "codemirror_mode": {
    "name": "ipython",
    "version": 3
   },
   "file_extension": ".py",
   "mimetype": "text/x-python",
   "name": "python",
   "nbconvert_exporter": "python",
   "pygments_lexer": "ipython3",
   "version": "3.9.7"
  }
 },
 "nbformat": 4,
 "nbformat_minor": 5
}
